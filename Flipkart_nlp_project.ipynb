"## The dataset link is inside the readme file"
{
 "cells": [
  {
   "cell_type": "markdown",
   "id": "4e547217-716d-4e87-9c60-907fb721172b",
   "metadata": {},
   "source": [
    "## Import packages"
   ]
  },
  {
   "cell_type": "code",
   "execution_count": 1,
   "id": "9c5e02fe-dc64-453b-9d63-3f71d87d7c94",
   "metadata": {},
   "outputs": [],
   "source": [
    "import numpy as np\n",
    "import pandas as pd\n",
    "import matplotlib.pyplot as plt\n",
    "import seaborn as sns\n",
    "import nltk\n",
    "from sklearn.metrics import accuracy_score, precision_score, recall_score, f1_score\n",
    "from sklearn.metrics import confusion_matrix, matthews_corrcoef"
   ]
  },
  {
   "cell_type": "markdown",
   "id": "03effd70-fbdd-4c8e-b78b-99361a5e00ab",
   "metadata": {},
   "source": [
    "## Text Preprocessing"
   ]
  },
  {
   "cell_type": "code",
   "execution_count": 34,
   "id": "ebd4509c-e5bd-4964-a9fd-4a926d7b7625",
   "metadata": {},
   "outputs": [],
   "source": [
    "df=pd.read_csv(r\"D:\\Data Sets\\Dataset-SA.csv\")"
   ]
  },
  {
   "cell_type": "code",
   "execution_count": 35,
   "id": "747b5e75-4e3c-4d00-a657-e388ea7fe62c",
   "metadata": {},
   "outputs": [
    {
     "data": {
      "text/html": [
       "<div>\n",
       "<style scoped>\n",
       "    .dataframe tbody tr th:only-of-type {\n",
       "        vertical-align: middle;\n",
       "    }\n",
       "\n",
       "    .dataframe tbody tr th {\n",
       "        vertical-align: top;\n",
       "    }\n",
       "\n",
       "    .dataframe thead th {\n",
       "        text-align: right;\n",
       "    }\n",
       "</style>\n",
       "<table border=\"1\" class=\"dataframe\">\n",
       "  <thead>\n",
       "    <tr style=\"text-align: right;\">\n",
       "      <th></th>\n",
       "      <th>product_name</th>\n",
       "      <th>product_price</th>\n",
       "      <th>Rate</th>\n",
       "      <th>Review</th>\n",
       "      <th>Summary</th>\n",
       "      <th>Sentiment</th>\n",
       "    </tr>\n",
       "  </thead>\n",
       "  <tbody>\n",
       "    <tr>\n",
       "      <th>0</th>\n",
       "      <td>Candes 12 L Room/Personal Air Cooler??????(Whi...</td>\n",
       "      <td>3999</td>\n",
       "      <td>5</td>\n",
       "      <td>super!</td>\n",
       "      <td>great cooler excellent air flow and for this p...</td>\n",
       "      <td>positive</td>\n",
       "    </tr>\n",
       "    <tr>\n",
       "      <th>1</th>\n",
       "      <td>Candes 12 L Room/Personal Air Cooler??????(Whi...</td>\n",
       "      <td>3999</td>\n",
       "      <td>5</td>\n",
       "      <td>awesome</td>\n",
       "      <td>best budget 2 fit cooler nice cooling</td>\n",
       "      <td>positive</td>\n",
       "    </tr>\n",
       "    <tr>\n",
       "      <th>2</th>\n",
       "      <td>Candes 12 L Room/Personal Air Cooler??????(Whi...</td>\n",
       "      <td>3999</td>\n",
       "      <td>3</td>\n",
       "      <td>fair</td>\n",
       "      <td>the quality is good but the power of air is de...</td>\n",
       "      <td>positive</td>\n",
       "    </tr>\n",
       "    <tr>\n",
       "      <th>3</th>\n",
       "      <td>Candes 12 L Room/Personal Air Cooler??????(Whi...</td>\n",
       "      <td>3999</td>\n",
       "      <td>1</td>\n",
       "      <td>useless product</td>\n",
       "      <td>very bad product its a only a fan</td>\n",
       "      <td>negative</td>\n",
       "    </tr>\n",
       "    <tr>\n",
       "      <th>4</th>\n",
       "      <td>Candes 12 L Room/Personal Air Cooler??????(Whi...</td>\n",
       "      <td>3999</td>\n",
       "      <td>3</td>\n",
       "      <td>fair</td>\n",
       "      <td>ok ok product</td>\n",
       "      <td>neutral</td>\n",
       "    </tr>\n",
       "    <tr>\n",
       "      <th>5</th>\n",
       "      <td>Candes 12 L Room/Personal Air Cooler??????(Whi...</td>\n",
       "      <td>3999</td>\n",
       "      <td>5</td>\n",
       "      <td>awesome</td>\n",
       "      <td>the cooler is really fantastic and provides go...</td>\n",
       "      <td>positive</td>\n",
       "    </tr>\n",
       "    <tr>\n",
       "      <th>6</th>\n",
       "      <td>Candes 12 L Room/Personal Air Cooler??????(Whi...</td>\n",
       "      <td>3999</td>\n",
       "      <td>5</td>\n",
       "      <td>highly recommended</td>\n",
       "      <td>very good product</td>\n",
       "      <td>positive</td>\n",
       "    </tr>\n",
       "    <tr>\n",
       "      <th>7</th>\n",
       "      <td>Candes 12 L Room/Personal Air Cooler??????(Whi...</td>\n",
       "      <td>3999</td>\n",
       "      <td>3</td>\n",
       "      <td>nice</td>\n",
       "      <td>very nice</td>\n",
       "      <td>positive</td>\n",
       "    </tr>\n",
       "    <tr>\n",
       "      <th>8</th>\n",
       "      <td>Candes 12 L Room/Personal Air Cooler??????(Whi...</td>\n",
       "      <td>3999</td>\n",
       "      <td>1</td>\n",
       "      <td>unsatisfactory</td>\n",
       "      <td>very bad cooler</td>\n",
       "      <td>negative</td>\n",
       "    </tr>\n",
       "    <tr>\n",
       "      <th>9</th>\n",
       "      <td>Candes 12 L Room/Personal Air Cooler??????(Whi...</td>\n",
       "      <td>3999</td>\n",
       "      <td>4</td>\n",
       "      <td>worth the money</td>\n",
       "      <td>very good</td>\n",
       "      <td>positive</td>\n",
       "    </tr>\n",
       "  </tbody>\n",
       "</table>\n",
       "</div>"
      ],
      "text/plain": [
       "                                        product_name product_price Rate  \\\n",
       "0  Candes 12 L Room/Personal Air Cooler??????(Whi...          3999    5   \n",
       "1  Candes 12 L Room/Personal Air Cooler??????(Whi...          3999    5   \n",
       "2  Candes 12 L Room/Personal Air Cooler??????(Whi...          3999    3   \n",
       "3  Candes 12 L Room/Personal Air Cooler??????(Whi...          3999    1   \n",
       "4  Candes 12 L Room/Personal Air Cooler??????(Whi...          3999    3   \n",
       "5  Candes 12 L Room/Personal Air Cooler??????(Whi...          3999    5   \n",
       "6  Candes 12 L Room/Personal Air Cooler??????(Whi...          3999    5   \n",
       "7  Candes 12 L Room/Personal Air Cooler??????(Whi...          3999    3   \n",
       "8  Candes 12 L Room/Personal Air Cooler??????(Whi...          3999    1   \n",
       "9  Candes 12 L Room/Personal Air Cooler??????(Whi...          3999    4   \n",
       "\n",
       "               Review                                            Summary  \\\n",
       "0              super!  great cooler excellent air flow and for this p...   \n",
       "1             awesome              best budget 2 fit cooler nice cooling   \n",
       "2                fair  the quality is good but the power of air is de...   \n",
       "3     useless product                  very bad product its a only a fan   \n",
       "4                fair                                      ok ok product   \n",
       "5             awesome  the cooler is really fantastic and provides go...   \n",
       "6  highly recommended                                  very good product   \n",
       "7                nice                                          very nice   \n",
       "8      unsatisfactory                                    very bad cooler   \n",
       "9     worth the money                                          very good   \n",
       "\n",
       "  Sentiment  \n",
       "0  positive  \n",
       "1  positive  \n",
       "2  positive  \n",
       "3  negative  \n",
       "4   neutral  \n",
       "5  positive  \n",
       "6  positive  \n",
       "7  positive  \n",
       "8  negative  \n",
       "9  positive  "
      ]
     },
     "execution_count": 35,
     "metadata": {},
     "output_type": "execute_result"
    }
   ],
   "source": [
    "df.head(10) # understand the data"
   ]
  },
  {
   "cell_type": "code",
   "execution_count": 36,
   "id": "dd945fe0-32f5-4804-b18e-90d91e56ba7e",
   "metadata": {},
   "outputs": [
    {
     "name": "stdout",
     "output_type": "stream",
     "text": [
      "<class 'pandas.core.frame.DataFrame'>\n",
      "RangeIndex: 205052 entries, 0 to 205051\n",
      "Data columns (total 6 columns):\n",
      " #   Column         Non-Null Count   Dtype \n",
      "---  ------         --------------   ----- \n",
      " 0   product_name   205052 non-null  object\n",
      " 1   product_price  205052 non-null  object\n",
      " 2   Rate           205052 non-null  object\n",
      " 3   Review         180388 non-null  object\n",
      " 4   Summary        205041 non-null  object\n",
      " 5   Sentiment      205052 non-null  object\n",
      "dtypes: object(6)\n",
      "memory usage: 9.4+ MB\n"
     ]
    }
   ],
   "source": [
    "## Here in the data , we can understand the summary gives the more accuracy to sentiment coulmn.These are th columns we have to focus.\n",
    "df.info()"
   ]
  },
  {
   "cell_type": "markdown",
   "id": "9d99f2d7-35d3-4349-821a-ed1aa82aa8c1",
   "metadata": {},
   "source": [
    "### Handling null values"
   ]
  },
  {
   "cell_type": "code",
   "execution_count": 39,
   "id": "ea106436-0099-4b4d-b967-0acb31e069ec",
   "metadata": {},
   "outputs": [
    {
     "data": {
      "text/plain": [
       "product_name         0\n",
       "product_price        0\n",
       "Rate                 0\n",
       "Review           24664\n",
       "Summary             11\n",
       "Sentiment            0\n",
       "dtype: int64"
      ]
     },
     "execution_count": 39,
     "metadata": {},
     "output_type": "execute_result"
    }
   ],
   "source": [
    "df.isnull().sum() # Review has more null values. But we have to focus only Summary column"
   ]
  },
  {
   "cell_type": "code",
   "execution_count": 40,
   "id": "893a3a78-23ca-4427-ab89-3633cc04f42d",
   "metadata": {},
   "outputs": [],
   "source": [
    "df=df.dropna(subset=['Summary']) #drop null values based on Summary column"
   ]
  },
  {
   "cell_type": "code",
   "execution_count": null,
   "id": "b9baa4bc-70f3-459e-aad3-dfb34ba32225",
   "metadata": {},
   "outputs": [],
   "source": [
    "df.isnull().sum()"
   ]
  },
  {
   "cell_type": "markdown",
   "id": "25975f51-716d-4c2f-8eba-def8595f4533",
   "metadata": {},
   "source": [
    "### Tokenization"
   ]
  },
  {
   "cell_type": "code",
   "execution_count": 42,
   "id": "d6b30122-852f-40fa-a4fd-cf13d1b619b1",
   "metadata": {},
   "outputs": [],
   "source": [
    "from nltk.tokenize import word_tokenize,sent_tokenize\n",
    "\n",
    "df['Summary']=df['Summary'].apply(lambda x: x.strip()) # Remove the unimportant commands"
   ]
  },
  {
   "cell_type": "code",
   "execution_count": 43,
   "id": "e137888d-8d15-453c-9695-b4ba77877cbf",
   "metadata": {},
   "outputs": [],
   "source": [
    "df['words']=df['Summary'].apply(word_tokenize) # Split the word and stored into list"
   ]
  },
  {
   "cell_type": "code",
   "execution_count": 44,
   "id": "4f5fdbb9-959e-4a28-b923-1fd3213f0a97",
   "metadata": {
    "scrolled": true
   },
   "outputs": [
    {
     "data": {
      "text/html": [
       "<div>\n",
       "<style scoped>\n",
       "    .dataframe tbody tr th:only-of-type {\n",
       "        vertical-align: middle;\n",
       "    }\n",
       "\n",
       "    .dataframe tbody tr th {\n",
       "        vertical-align: top;\n",
       "    }\n",
       "\n",
       "    .dataframe thead th {\n",
       "        text-align: right;\n",
       "    }\n",
       "</style>\n",
       "<table border=\"1\" class=\"dataframe\">\n",
       "  <thead>\n",
       "    <tr style=\"text-align: right;\">\n",
       "      <th></th>\n",
       "      <th>product_name</th>\n",
       "      <th>product_price</th>\n",
       "      <th>Rate</th>\n",
       "      <th>Review</th>\n",
       "      <th>Summary</th>\n",
       "      <th>Sentiment</th>\n",
       "      <th>words</th>\n",
       "    </tr>\n",
       "  </thead>\n",
       "  <tbody>\n",
       "    <tr>\n",
       "      <th>0</th>\n",
       "      <td>Candes 12 L Room/Personal Air Cooler??????(Whi...</td>\n",
       "      <td>3999</td>\n",
       "      <td>5</td>\n",
       "      <td>super!</td>\n",
       "      <td>great cooler excellent air flow and for this p...</td>\n",
       "      <td>positive</td>\n",
       "      <td>[great, cooler, excellent, air, flow, and, for...</td>\n",
       "    </tr>\n",
       "    <tr>\n",
       "      <th>1</th>\n",
       "      <td>Candes 12 L Room/Personal Air Cooler??????(Whi...</td>\n",
       "      <td>3999</td>\n",
       "      <td>5</td>\n",
       "      <td>awesome</td>\n",
       "      <td>best budget 2 fit cooler nice cooling</td>\n",
       "      <td>positive</td>\n",
       "      <td>[best, budget, 2, fit, cooler, nice, cooling]</td>\n",
       "    </tr>\n",
       "    <tr>\n",
       "      <th>2</th>\n",
       "      <td>Candes 12 L Room/Personal Air Cooler??????(Whi...</td>\n",
       "      <td>3999</td>\n",
       "      <td>3</td>\n",
       "      <td>fair</td>\n",
       "      <td>the quality is good but the power of air is de...</td>\n",
       "      <td>positive</td>\n",
       "      <td>[the, quality, is, good, but, the, power, of, ...</td>\n",
       "    </tr>\n",
       "    <tr>\n",
       "      <th>3</th>\n",
       "      <td>Candes 12 L Room/Personal Air Cooler??????(Whi...</td>\n",
       "      <td>3999</td>\n",
       "      <td>1</td>\n",
       "      <td>useless product</td>\n",
       "      <td>very bad product its a only a fan</td>\n",
       "      <td>negative</td>\n",
       "      <td>[very, bad, product, its, a, only, a, fan]</td>\n",
       "    </tr>\n",
       "    <tr>\n",
       "      <th>4</th>\n",
       "      <td>Candes 12 L Room/Personal Air Cooler??????(Whi...</td>\n",
       "      <td>3999</td>\n",
       "      <td>3</td>\n",
       "      <td>fair</td>\n",
       "      <td>ok ok product</td>\n",
       "      <td>neutral</td>\n",
       "      <td>[ok, ok, product]</td>\n",
       "    </tr>\n",
       "    <tr>\n",
       "      <th>...</th>\n",
       "      <td>...</td>\n",
       "      <td>...</td>\n",
       "      <td>...</td>\n",
       "      <td>...</td>\n",
       "      <td>...</td>\n",
       "      <td>...</td>\n",
       "      <td>...</td>\n",
       "    </tr>\n",
       "    <tr>\n",
       "      <th>205047</th>\n",
       "      <td>cello Pack of 18 Opalware Cello Dazzle Lush Fi...</td>\n",
       "      <td>1299</td>\n",
       "      <td>5</td>\n",
       "      <td>must buy!</td>\n",
       "      <td>good product</td>\n",
       "      <td>positive</td>\n",
       "      <td>[good, product]</td>\n",
       "    </tr>\n",
       "    <tr>\n",
       "      <th>205048</th>\n",
       "      <td>cello Pack of 18 Opalware Cello Dazzle Lush Fi...</td>\n",
       "      <td>1299</td>\n",
       "      <td>5</td>\n",
       "      <td>super!</td>\n",
       "      <td>nice</td>\n",
       "      <td>positive</td>\n",
       "      <td>[nice]</td>\n",
       "    </tr>\n",
       "    <tr>\n",
       "      <th>205049</th>\n",
       "      <td>cello Pack of 18 Opalware Cello Dazzle Lush Fi...</td>\n",
       "      <td>1299</td>\n",
       "      <td>3</td>\n",
       "      <td>nice</td>\n",
       "      <td>very nice and fast delivery</td>\n",
       "      <td>positive</td>\n",
       "      <td>[very, nice, and, fast, delivery]</td>\n",
       "    </tr>\n",
       "    <tr>\n",
       "      <th>205050</th>\n",
       "      <td>cello Pack of 18 Opalware Cello Dazzle Lush Fi...</td>\n",
       "      <td>1299</td>\n",
       "      <td>5</td>\n",
       "      <td>just wow!</td>\n",
       "      <td>awesome product</td>\n",
       "      <td>positive</td>\n",
       "      <td>[awesome, product]</td>\n",
       "    </tr>\n",
       "    <tr>\n",
       "      <th>205051</th>\n",
       "      <td>cello Pack of 18 Opalware Cello Dazzle Lush Fi...</td>\n",
       "      <td>1299</td>\n",
       "      <td>4</td>\n",
       "      <td>value-for-money</td>\n",
       "      <td>very good but mixing bowl not included is one ...</td>\n",
       "      <td>neutral</td>\n",
       "      <td>[very, good, but, mixing, bowl, not, included,...</td>\n",
       "    </tr>\n",
       "  </tbody>\n",
       "</table>\n",
       "<p>205041 rows × 7 columns</p>\n",
       "</div>"
      ],
      "text/plain": [
       "                                             product_name product_price Rate  \\\n",
       "0       Candes 12 L Room/Personal Air Cooler??????(Whi...          3999    5   \n",
       "1       Candes 12 L Room/Personal Air Cooler??????(Whi...          3999    5   \n",
       "2       Candes 12 L Room/Personal Air Cooler??????(Whi...          3999    3   \n",
       "3       Candes 12 L Room/Personal Air Cooler??????(Whi...          3999    1   \n",
       "4       Candes 12 L Room/Personal Air Cooler??????(Whi...          3999    3   \n",
       "...                                                   ...           ...  ...   \n",
       "205047  cello Pack of 18 Opalware Cello Dazzle Lush Fi...          1299    5   \n",
       "205048  cello Pack of 18 Opalware Cello Dazzle Lush Fi...          1299    5   \n",
       "205049  cello Pack of 18 Opalware Cello Dazzle Lush Fi...          1299    3   \n",
       "205050  cello Pack of 18 Opalware Cello Dazzle Lush Fi...          1299    5   \n",
       "205051  cello Pack of 18 Opalware Cello Dazzle Lush Fi...          1299    4   \n",
       "\n",
       "                 Review                                            Summary  \\\n",
       "0                super!  great cooler excellent air flow and for this p...   \n",
       "1               awesome              best budget 2 fit cooler nice cooling   \n",
       "2                  fair  the quality is good but the power of air is de...   \n",
       "3       useless product                  very bad product its a only a fan   \n",
       "4                  fair                                      ok ok product   \n",
       "...                 ...                                                ...   \n",
       "205047        must buy!                                       good product   \n",
       "205048           super!                                               nice   \n",
       "205049             nice                        very nice and fast delivery   \n",
       "205050        just wow!                                    awesome product   \n",
       "205051  value-for-money  very good but mixing bowl not included is one ...   \n",
       "\n",
       "       Sentiment                                              words  \n",
       "0       positive  [great, cooler, excellent, air, flow, and, for...  \n",
       "1       positive      [best, budget, 2, fit, cooler, nice, cooling]  \n",
       "2       positive  [the, quality, is, good, but, the, power, of, ...  \n",
       "3       negative         [very, bad, product, its, a, only, a, fan]  \n",
       "4        neutral                                  [ok, ok, product]  \n",
       "...          ...                                                ...  \n",
       "205047  positive                                    [good, product]  \n",
       "205048  positive                                             [nice]  \n",
       "205049  positive                  [very, nice, and, fast, delivery]  \n",
       "205050  positive                                 [awesome, product]  \n",
       "205051   neutral  [very, good, but, mixing, bowl, not, included,...  \n",
       "\n",
       "[205041 rows x 7 columns]"
      ]
     },
     "execution_count": 44,
     "metadata": {},
     "output_type": "execute_result"
    }
   ],
   "source": [
    "df"
   ]
  },
  {
   "cell_type": "markdown",
   "id": "5debb6d5-987f-4432-ba46-6714be90c39b",
   "metadata": {},
   "source": [
    "#### Lowercase"
   ]
  },
  {
   "cell_type": "code",
   "execution_count": 45,
   "id": "291e33be-e66b-43eb-8a4b-a0dd9bcf0584",
   "metadata": {},
   "outputs": [],
   "source": [
    "df['words']=[[word.lower() for word in sentence]for sentence in df['words']] # Convert the all words into smaller case"
   ]
  },
  {
   "cell_type": "code",
   "execution_count": 46,
   "id": "aac4e045-cbc6-415c-8a0f-7f624418544e",
   "metadata": {},
   "outputs": [
    {
     "data": {
      "text/html": [
       "<div>\n",
       "<style scoped>\n",
       "    .dataframe tbody tr th:only-of-type {\n",
       "        vertical-align: middle;\n",
       "    }\n",
       "\n",
       "    .dataframe tbody tr th {\n",
       "        vertical-align: top;\n",
       "    }\n",
       "\n",
       "    .dataframe thead th {\n",
       "        text-align: right;\n",
       "    }\n",
       "</style>\n",
       "<table border=\"1\" class=\"dataframe\">\n",
       "  <thead>\n",
       "    <tr style=\"text-align: right;\">\n",
       "      <th></th>\n",
       "      <th>product_name</th>\n",
       "      <th>product_price</th>\n",
       "      <th>Rate</th>\n",
       "      <th>Review</th>\n",
       "      <th>Summary</th>\n",
       "      <th>Sentiment</th>\n",
       "      <th>words</th>\n",
       "    </tr>\n",
       "  </thead>\n",
       "  <tbody>\n",
       "    <tr>\n",
       "      <th>0</th>\n",
       "      <td>Candes 12 L Room/Personal Air Cooler??????(Whi...</td>\n",
       "      <td>3999</td>\n",
       "      <td>5</td>\n",
       "      <td>super!</td>\n",
       "      <td>great cooler excellent air flow and for this p...</td>\n",
       "      <td>positive</td>\n",
       "      <td>[great, cooler, excellent, air, flow, and, for...</td>\n",
       "    </tr>\n",
       "    <tr>\n",
       "      <th>1</th>\n",
       "      <td>Candes 12 L Room/Personal Air Cooler??????(Whi...</td>\n",
       "      <td>3999</td>\n",
       "      <td>5</td>\n",
       "      <td>awesome</td>\n",
       "      <td>best budget 2 fit cooler nice cooling</td>\n",
       "      <td>positive</td>\n",
       "      <td>[best, budget, 2, fit, cooler, nice, cooling]</td>\n",
       "    </tr>\n",
       "    <tr>\n",
       "      <th>2</th>\n",
       "      <td>Candes 12 L Room/Personal Air Cooler??????(Whi...</td>\n",
       "      <td>3999</td>\n",
       "      <td>3</td>\n",
       "      <td>fair</td>\n",
       "      <td>the quality is good but the power of air is de...</td>\n",
       "      <td>positive</td>\n",
       "      <td>[the, quality, is, good, but, the, power, of, ...</td>\n",
       "    </tr>\n",
       "    <tr>\n",
       "      <th>3</th>\n",
       "      <td>Candes 12 L Room/Personal Air Cooler??????(Whi...</td>\n",
       "      <td>3999</td>\n",
       "      <td>1</td>\n",
       "      <td>useless product</td>\n",
       "      <td>very bad product its a only a fan</td>\n",
       "      <td>negative</td>\n",
       "      <td>[very, bad, product, its, a, only, a, fan]</td>\n",
       "    </tr>\n",
       "    <tr>\n",
       "      <th>4</th>\n",
       "      <td>Candes 12 L Room/Personal Air Cooler??????(Whi...</td>\n",
       "      <td>3999</td>\n",
       "      <td>3</td>\n",
       "      <td>fair</td>\n",
       "      <td>ok ok product</td>\n",
       "      <td>neutral</td>\n",
       "      <td>[ok, ok, product]</td>\n",
       "    </tr>\n",
       "    <tr>\n",
       "      <th>5</th>\n",
       "      <td>Candes 12 L Room/Personal Air Cooler??????(Whi...</td>\n",
       "      <td>3999</td>\n",
       "      <td>5</td>\n",
       "      <td>awesome</td>\n",
       "      <td>the cooler is really fantastic and provides go...</td>\n",
       "      <td>positive</td>\n",
       "      <td>[the, cooler, is, really, fantastic, and, prov...</td>\n",
       "    </tr>\n",
       "    <tr>\n",
       "      <th>6</th>\n",
       "      <td>Candes 12 L Room/Personal Air Cooler??????(Whi...</td>\n",
       "      <td>3999</td>\n",
       "      <td>5</td>\n",
       "      <td>highly recommended</td>\n",
       "      <td>very good product</td>\n",
       "      <td>positive</td>\n",
       "      <td>[very, good, product]</td>\n",
       "    </tr>\n",
       "    <tr>\n",
       "      <th>7</th>\n",
       "      <td>Candes 12 L Room/Personal Air Cooler??????(Whi...</td>\n",
       "      <td>3999</td>\n",
       "      <td>3</td>\n",
       "      <td>nice</td>\n",
       "      <td>very nice</td>\n",
       "      <td>positive</td>\n",
       "      <td>[very, nice]</td>\n",
       "    </tr>\n",
       "    <tr>\n",
       "      <th>8</th>\n",
       "      <td>Candes 12 L Room/Personal Air Cooler??????(Whi...</td>\n",
       "      <td>3999</td>\n",
       "      <td>1</td>\n",
       "      <td>unsatisfactory</td>\n",
       "      <td>very bad cooler</td>\n",
       "      <td>negative</td>\n",
       "      <td>[very, bad, cooler]</td>\n",
       "    </tr>\n",
       "    <tr>\n",
       "      <th>9</th>\n",
       "      <td>Candes 12 L Room/Personal Air Cooler??????(Whi...</td>\n",
       "      <td>3999</td>\n",
       "      <td>4</td>\n",
       "      <td>worth the money</td>\n",
       "      <td>very good</td>\n",
       "      <td>positive</td>\n",
       "      <td>[very, good]</td>\n",
       "    </tr>\n",
       "  </tbody>\n",
       "</table>\n",
       "</div>"
      ],
      "text/plain": [
       "                                        product_name product_price Rate  \\\n",
       "0  Candes 12 L Room/Personal Air Cooler??????(Whi...          3999    5   \n",
       "1  Candes 12 L Room/Personal Air Cooler??????(Whi...          3999    5   \n",
       "2  Candes 12 L Room/Personal Air Cooler??????(Whi...          3999    3   \n",
       "3  Candes 12 L Room/Personal Air Cooler??????(Whi...          3999    1   \n",
       "4  Candes 12 L Room/Personal Air Cooler??????(Whi...          3999    3   \n",
       "5  Candes 12 L Room/Personal Air Cooler??????(Whi...          3999    5   \n",
       "6  Candes 12 L Room/Personal Air Cooler??????(Whi...          3999    5   \n",
       "7  Candes 12 L Room/Personal Air Cooler??????(Whi...          3999    3   \n",
       "8  Candes 12 L Room/Personal Air Cooler??????(Whi...          3999    1   \n",
       "9  Candes 12 L Room/Personal Air Cooler??????(Whi...          3999    4   \n",
       "\n",
       "               Review                                            Summary  \\\n",
       "0              super!  great cooler excellent air flow and for this p...   \n",
       "1             awesome              best budget 2 fit cooler nice cooling   \n",
       "2                fair  the quality is good but the power of air is de...   \n",
       "3     useless product                  very bad product its a only a fan   \n",
       "4                fair                                      ok ok product   \n",
       "5             awesome  the cooler is really fantastic and provides go...   \n",
       "6  highly recommended                                  very good product   \n",
       "7                nice                                          very nice   \n",
       "8      unsatisfactory                                    very bad cooler   \n",
       "9     worth the money                                          very good   \n",
       "\n",
       "  Sentiment                                              words  \n",
       "0  positive  [great, cooler, excellent, air, flow, and, for...  \n",
       "1  positive      [best, budget, 2, fit, cooler, nice, cooling]  \n",
       "2  positive  [the, quality, is, good, but, the, power, of, ...  \n",
       "3  negative         [very, bad, product, its, a, only, a, fan]  \n",
       "4   neutral                                  [ok, ok, product]  \n",
       "5  positive  [the, cooler, is, really, fantastic, and, prov...  \n",
       "6  positive                              [very, good, product]  \n",
       "7  positive                                       [very, nice]  \n",
       "8  negative                                [very, bad, cooler]  \n",
       "9  positive                                       [very, good]  "
      ]
     },
     "execution_count": 46,
     "metadata": {},
     "output_type": "execute_result"
    }
   ],
   "source": [
    "df.head(10)"
   ]
  },
  {
   "cell_type": "markdown",
   "id": "5126f2a0-2eee-4ebb-8d5b-4602b7cc1400",
   "metadata": {},
   "source": [
    "### Stop word removel"
   ]
  },
  {
   "cell_type": "code",
   "execution_count": 47,
   "id": "4d27777e-741a-477b-8d46-d0499d79f229",
   "metadata": {},
   "outputs": [
    {
     "name": "stderr",
     "output_type": "stream",
     "text": [
      "[nltk_data] Downloading package stopwords to\n",
      "[nltk_data]     C:\\Users\\USER\\AppData\\Roaming\\nltk_data...\n",
      "[nltk_data]   Package stopwords is already up-to-date!\n"
     ]
    },
    {
     "data": {
      "text/plain": [
       "True"
      ]
     },
     "execution_count": 47,
     "metadata": {},
     "output_type": "execute_result"
    }
   ],
   "source": [
    "from nltk.corpus import stopwords #to remove stop words like is ,of ,and etc...\n",
    "nltk.download('stopwords')"
   ]
  },
  {
   "cell_type": "code",
   "execution_count": 48,
   "id": "cbfdff1e-3d73-4df2-82f1-c9f7b49c5e84",
   "metadata": {},
   "outputs": [],
   "source": [
    "stop_words=set(stopwords.words('english'))\n",
    "def stopword(sentence):\n",
    "    return [word for word in sentence if word not in stop_words]\n",
    "\n",
    "df['words']=df['words'].apply(stopword)"
   ]
  },
  {
   "cell_type": "code",
   "execution_count": 49,
   "id": "952a2eb7-dd72-47d6-a228-29f8e0dd02c4",
   "metadata": {},
   "outputs": [
    {
     "data": {
      "text/html": [
       "<div>\n",
       "<style scoped>\n",
       "    .dataframe tbody tr th:only-of-type {\n",
       "        vertical-align: middle;\n",
       "    }\n",
       "\n",
       "    .dataframe tbody tr th {\n",
       "        vertical-align: top;\n",
       "    }\n",
       "\n",
       "    .dataframe thead th {\n",
       "        text-align: right;\n",
       "    }\n",
       "</style>\n",
       "<table border=\"1\" class=\"dataframe\">\n",
       "  <thead>\n",
       "    <tr style=\"text-align: right;\">\n",
       "      <th></th>\n",
       "      <th>product_name</th>\n",
       "      <th>product_price</th>\n",
       "      <th>Rate</th>\n",
       "      <th>Review</th>\n",
       "      <th>Summary</th>\n",
       "      <th>Sentiment</th>\n",
       "      <th>words</th>\n",
       "    </tr>\n",
       "  </thead>\n",
       "  <tbody>\n",
       "    <tr>\n",
       "      <th>0</th>\n",
       "      <td>Candes 12 L Room/Personal Air Cooler??????(Whi...</td>\n",
       "      <td>3999</td>\n",
       "      <td>5</td>\n",
       "      <td>super!</td>\n",
       "      <td>great cooler excellent air flow and for this p...</td>\n",
       "      <td>positive</td>\n",
       "      <td>[great, cooler, excellent, air, flow, price, a...</td>\n",
       "    </tr>\n",
       "    <tr>\n",
       "      <th>1</th>\n",
       "      <td>Candes 12 L Room/Personal Air Cooler??????(Whi...</td>\n",
       "      <td>3999</td>\n",
       "      <td>5</td>\n",
       "      <td>awesome</td>\n",
       "      <td>best budget 2 fit cooler nice cooling</td>\n",
       "      <td>positive</td>\n",
       "      <td>[best, budget, 2, fit, cooler, nice, cooling]</td>\n",
       "    </tr>\n",
       "    <tr>\n",
       "      <th>2</th>\n",
       "      <td>Candes 12 L Room/Personal Air Cooler??????(Whi...</td>\n",
       "      <td>3999</td>\n",
       "      <td>3</td>\n",
       "      <td>fair</td>\n",
       "      <td>the quality is good but the power of air is de...</td>\n",
       "      <td>positive</td>\n",
       "      <td>[quality, good, power, air, decent]</td>\n",
       "    </tr>\n",
       "    <tr>\n",
       "      <th>3</th>\n",
       "      <td>Candes 12 L Room/Personal Air Cooler??????(Whi...</td>\n",
       "      <td>3999</td>\n",
       "      <td>1</td>\n",
       "      <td>useless product</td>\n",
       "      <td>very bad product its a only a fan</td>\n",
       "      <td>negative</td>\n",
       "      <td>[bad, product, fan]</td>\n",
       "    </tr>\n",
       "    <tr>\n",
       "      <th>4</th>\n",
       "      <td>Candes 12 L Room/Personal Air Cooler??????(Whi...</td>\n",
       "      <td>3999</td>\n",
       "      <td>3</td>\n",
       "      <td>fair</td>\n",
       "      <td>ok ok product</td>\n",
       "      <td>neutral</td>\n",
       "      <td>[ok, ok, product]</td>\n",
       "    </tr>\n",
       "    <tr>\n",
       "      <th>5</th>\n",
       "      <td>Candes 12 L Room/Personal Air Cooler??????(Whi...</td>\n",
       "      <td>3999</td>\n",
       "      <td>5</td>\n",
       "      <td>awesome</td>\n",
       "      <td>the cooler is really fantastic and provides go...</td>\n",
       "      <td>positive</td>\n",
       "      <td>[cooler, really, fantastic, provides, good, ai...</td>\n",
       "    </tr>\n",
       "    <tr>\n",
       "      <th>6</th>\n",
       "      <td>Candes 12 L Room/Personal Air Cooler??????(Whi...</td>\n",
       "      <td>3999</td>\n",
       "      <td>5</td>\n",
       "      <td>highly recommended</td>\n",
       "      <td>very good product</td>\n",
       "      <td>positive</td>\n",
       "      <td>[good, product]</td>\n",
       "    </tr>\n",
       "    <tr>\n",
       "      <th>7</th>\n",
       "      <td>Candes 12 L Room/Personal Air Cooler??????(Whi...</td>\n",
       "      <td>3999</td>\n",
       "      <td>3</td>\n",
       "      <td>nice</td>\n",
       "      <td>very nice</td>\n",
       "      <td>positive</td>\n",
       "      <td>[nice]</td>\n",
       "    </tr>\n",
       "    <tr>\n",
       "      <th>8</th>\n",
       "      <td>Candes 12 L Room/Personal Air Cooler??????(Whi...</td>\n",
       "      <td>3999</td>\n",
       "      <td>1</td>\n",
       "      <td>unsatisfactory</td>\n",
       "      <td>very bad cooler</td>\n",
       "      <td>negative</td>\n",
       "      <td>[bad, cooler]</td>\n",
       "    </tr>\n",
       "    <tr>\n",
       "      <th>9</th>\n",
       "      <td>Candes 12 L Room/Personal Air Cooler??????(Whi...</td>\n",
       "      <td>3999</td>\n",
       "      <td>4</td>\n",
       "      <td>worth the money</td>\n",
       "      <td>very good</td>\n",
       "      <td>positive</td>\n",
       "      <td>[good]</td>\n",
       "    </tr>\n",
       "  </tbody>\n",
       "</table>\n",
       "</div>"
      ],
      "text/plain": [
       "                                        product_name product_price Rate  \\\n",
       "0  Candes 12 L Room/Personal Air Cooler??????(Whi...          3999    5   \n",
       "1  Candes 12 L Room/Personal Air Cooler??????(Whi...          3999    5   \n",
       "2  Candes 12 L Room/Personal Air Cooler??????(Whi...          3999    3   \n",
       "3  Candes 12 L Room/Personal Air Cooler??????(Whi...          3999    1   \n",
       "4  Candes 12 L Room/Personal Air Cooler??????(Whi...          3999    3   \n",
       "5  Candes 12 L Room/Personal Air Cooler??????(Whi...          3999    5   \n",
       "6  Candes 12 L Room/Personal Air Cooler??????(Whi...          3999    5   \n",
       "7  Candes 12 L Room/Personal Air Cooler??????(Whi...          3999    3   \n",
       "8  Candes 12 L Room/Personal Air Cooler??????(Whi...          3999    1   \n",
       "9  Candes 12 L Room/Personal Air Cooler??????(Whi...          3999    4   \n",
       "\n",
       "               Review                                            Summary  \\\n",
       "0              super!  great cooler excellent air flow and for this p...   \n",
       "1             awesome              best budget 2 fit cooler nice cooling   \n",
       "2                fair  the quality is good but the power of air is de...   \n",
       "3     useless product                  very bad product its a only a fan   \n",
       "4                fair                                      ok ok product   \n",
       "5             awesome  the cooler is really fantastic and provides go...   \n",
       "6  highly recommended                                  very good product   \n",
       "7                nice                                          very nice   \n",
       "8      unsatisfactory                                    very bad cooler   \n",
       "9     worth the money                                          very good   \n",
       "\n",
       "  Sentiment                                              words  \n",
       "0  positive  [great, cooler, excellent, air, flow, price, a...  \n",
       "1  positive      [best, budget, 2, fit, cooler, nice, cooling]  \n",
       "2  positive                [quality, good, power, air, decent]  \n",
       "3  negative                                [bad, product, fan]  \n",
       "4   neutral                                  [ok, ok, product]  \n",
       "5  positive  [cooler, really, fantastic, provides, good, ai...  \n",
       "6  positive                                    [good, product]  \n",
       "7  positive                                             [nice]  \n",
       "8  negative                                      [bad, cooler]  \n",
       "9  positive                                             [good]  "
      ]
     },
     "execution_count": 49,
     "metadata": {},
     "output_type": "execute_result"
    }
   ],
   "source": [
    "df.head(10)"
   ]
  },
  {
   "cell_type": "markdown",
   "id": "41956102-d9a3-40d8-817d-574f98e9d20a",
   "metadata": {},
   "source": [
    "### Stemming"
   ]
  },
  {
   "cell_type": "code",
   "execution_count": 50,
   "id": "bcbd8198-3163-412a-a7c2-f9c1bfbb5b3f",
   "metadata": {},
   "outputs": [],
   "source": [
    "from nltk.stem import PorterStemmer  # to change the word into it's base word.Example eating = eat,formality=formalti\n",
    "stemmer=PorterStemmer()\n",
    "\n",
    "def stemming_word(row):\n",
    "    return [stemmer.stem(word) for word in row]\n",
    "\n",
    "df['words']=df['words'].apply(stemming_word)"
   ]
  },
  {
   "cell_type": "code",
   "execution_count": 51,
   "id": "330dd987-ae50-4b23-94f2-66b94f769b9b",
   "metadata": {},
   "outputs": [
    {
     "data": {
      "text/html": [
       "<div>\n",
       "<style scoped>\n",
       "    .dataframe tbody tr th:only-of-type {\n",
       "        vertical-align: middle;\n",
       "    }\n",
       "\n",
       "    .dataframe tbody tr th {\n",
       "        vertical-align: top;\n",
       "    }\n",
       "\n",
       "    .dataframe thead th {\n",
       "        text-align: right;\n",
       "    }\n",
       "</style>\n",
       "<table border=\"1\" class=\"dataframe\">\n",
       "  <thead>\n",
       "    <tr style=\"text-align: right;\">\n",
       "      <th></th>\n",
       "      <th>product_name</th>\n",
       "      <th>product_price</th>\n",
       "      <th>Rate</th>\n",
       "      <th>Review</th>\n",
       "      <th>Summary</th>\n",
       "      <th>Sentiment</th>\n",
       "      <th>words</th>\n",
       "    </tr>\n",
       "  </thead>\n",
       "  <tbody>\n",
       "    <tr>\n",
       "      <th>0</th>\n",
       "      <td>Candes 12 L Room/Personal Air Cooler??????(Whi...</td>\n",
       "      <td>3999</td>\n",
       "      <td>5</td>\n",
       "      <td>super!</td>\n",
       "      <td>great cooler excellent air flow and for this p...</td>\n",
       "      <td>positive</td>\n",
       "      <td>[great, cooler, excel, air, flow, price, amaz,...</td>\n",
       "    </tr>\n",
       "    <tr>\n",
       "      <th>1</th>\n",
       "      <td>Candes 12 L Room/Personal Air Cooler??????(Whi...</td>\n",
       "      <td>3999</td>\n",
       "      <td>5</td>\n",
       "      <td>awesome</td>\n",
       "      <td>best budget 2 fit cooler nice cooling</td>\n",
       "      <td>positive</td>\n",
       "      <td>[best, budget, 2, fit, cooler, nice, cool]</td>\n",
       "    </tr>\n",
       "    <tr>\n",
       "      <th>2</th>\n",
       "      <td>Candes 12 L Room/Personal Air Cooler??????(Whi...</td>\n",
       "      <td>3999</td>\n",
       "      <td>3</td>\n",
       "      <td>fair</td>\n",
       "      <td>the quality is good but the power of air is de...</td>\n",
       "      <td>positive</td>\n",
       "      <td>[qualiti, good, power, air, decent]</td>\n",
       "    </tr>\n",
       "    <tr>\n",
       "      <th>3</th>\n",
       "      <td>Candes 12 L Room/Personal Air Cooler??????(Whi...</td>\n",
       "      <td>3999</td>\n",
       "      <td>1</td>\n",
       "      <td>useless product</td>\n",
       "      <td>very bad product its a only a fan</td>\n",
       "      <td>negative</td>\n",
       "      <td>[bad, product, fan]</td>\n",
       "    </tr>\n",
       "    <tr>\n",
       "      <th>4</th>\n",
       "      <td>Candes 12 L Room/Personal Air Cooler??????(Whi...</td>\n",
       "      <td>3999</td>\n",
       "      <td>3</td>\n",
       "      <td>fair</td>\n",
       "      <td>ok ok product</td>\n",
       "      <td>neutral</td>\n",
       "      <td>[ok, ok, product]</td>\n",
       "    </tr>\n",
       "  </tbody>\n",
       "</table>\n",
       "</div>"
      ],
      "text/plain": [
       "                                        product_name product_price Rate  \\\n",
       "0  Candes 12 L Room/Personal Air Cooler??????(Whi...          3999    5   \n",
       "1  Candes 12 L Room/Personal Air Cooler??????(Whi...          3999    5   \n",
       "2  Candes 12 L Room/Personal Air Cooler??????(Whi...          3999    3   \n",
       "3  Candes 12 L Room/Personal Air Cooler??????(Whi...          3999    1   \n",
       "4  Candes 12 L Room/Personal Air Cooler??????(Whi...          3999    3   \n",
       "\n",
       "            Review                                            Summary  \\\n",
       "0           super!  great cooler excellent air flow and for this p...   \n",
       "1          awesome              best budget 2 fit cooler nice cooling   \n",
       "2             fair  the quality is good but the power of air is de...   \n",
       "3  useless product                  very bad product its a only a fan   \n",
       "4             fair                                      ok ok product   \n",
       "\n",
       "  Sentiment                                              words  \n",
       "0  positive  [great, cooler, excel, air, flow, price, amaz,...  \n",
       "1  positive         [best, budget, 2, fit, cooler, nice, cool]  \n",
       "2  positive                [qualiti, good, power, air, decent]  \n",
       "3  negative                                [bad, product, fan]  \n",
       "4   neutral                                  [ok, ok, product]  "
      ]
     },
     "execution_count": 51,
     "metadata": {},
     "output_type": "execute_result"
    }
   ],
   "source": [
    "df.head(5)"
   ]
  },
  {
   "cell_type": "markdown",
   "id": "5f1d42ad-cd50-4e9e-bc4d-785b218b23b3",
   "metadata": {},
   "source": [
    "### Encoding"
   ]
  },
  {
   "cell_type": "code",
   "execution_count": 52,
   "id": "c97d6855-e244-4542-806a-57374ac41ea3",
   "metadata": {},
   "outputs": [],
   "source": [
    "dict={'positive':1,'neutral':2,'negative':3} # convert sentiment column into numeric column\n",
    "df['Sentiment']=df['Sentiment'].map(dict)"
   ]
  },
  {
   "cell_type": "code",
   "execution_count": 53,
   "id": "e3d48091-2105-441f-9d4d-178432229de5",
   "metadata": {},
   "outputs": [
    {
     "data": {
      "text/plain": [
       "Sentiment\n",
       "1    166575\n",
       "3     28232\n",
       "2     10234\n",
       "Name: count, dtype: int64"
      ]
     },
     "execution_count": 53,
     "metadata": {},
     "output_type": "execute_result"
    }
   ],
   "source": [
    "df['Sentiment'].value_counts()"
   ]
  },
  {
   "cell_type": "markdown",
   "id": "7477464a-6a22-4543-9f22-8000c7cb8990",
   "metadata": {},
   "source": [
    "### Remove unecessary columns"
   ]
  },
  {
   "cell_type": "code",
   "execution_count": 24,
   "id": "63d49bea-d7fb-486d-95a2-7f6babef525f",
   "metadata": {},
   "outputs": [],
   "source": [
    "data=df[['words','Sentiment']]"
   ]
  },
  {
   "cell_type": "code",
   "execution_count": 25,
   "id": "5cce009b-6868-4efe-8f97-0872a1297545",
   "metadata": {},
   "outputs": [
    {
     "data": {
      "text/html": [
       "<div>\n",
       "<style scoped>\n",
       "    .dataframe tbody tr th:only-of-type {\n",
       "        vertical-align: middle;\n",
       "    }\n",
       "\n",
       "    .dataframe tbody tr th {\n",
       "        vertical-align: top;\n",
       "    }\n",
       "\n",
       "    .dataframe thead th {\n",
       "        text-align: right;\n",
       "    }\n",
       "</style>\n",
       "<table border=\"1\" class=\"dataframe\">\n",
       "  <thead>\n",
       "    <tr style=\"text-align: right;\">\n",
       "      <th></th>\n",
       "      <th>words</th>\n",
       "      <th>Sentiment</th>\n",
       "    </tr>\n",
       "  </thead>\n",
       "  <tbody>\n",
       "    <tr>\n",
       "      <th>0</th>\n",
       "      <td>[great, cooler, excel, air, flow, price, amaz,...</td>\n",
       "      <td>1</td>\n",
       "    </tr>\n",
       "    <tr>\n",
       "      <th>1</th>\n",
       "      <td>[best, budget, 2, fit, cooler, nice, cool]</td>\n",
       "      <td>1</td>\n",
       "    </tr>\n",
       "    <tr>\n",
       "      <th>2</th>\n",
       "      <td>[qualiti, good, power, air, decent]</td>\n",
       "      <td>1</td>\n",
       "    </tr>\n",
       "    <tr>\n",
       "      <th>3</th>\n",
       "      <td>[bad, product, fan]</td>\n",
       "      <td>3</td>\n",
       "    </tr>\n",
       "    <tr>\n",
       "      <th>4</th>\n",
       "      <td>[ok, ok, product]</td>\n",
       "      <td>2</td>\n",
       "    </tr>\n",
       "    <tr>\n",
       "      <th>...</th>\n",
       "      <td>...</td>\n",
       "      <td>...</td>\n",
       "    </tr>\n",
       "    <tr>\n",
       "      <th>205047</th>\n",
       "      <td>[good, product]</td>\n",
       "      <td>1</td>\n",
       "    </tr>\n",
       "    <tr>\n",
       "      <th>205048</th>\n",
       "      <td>[nice]</td>\n",
       "      <td>1</td>\n",
       "    </tr>\n",
       "    <tr>\n",
       "      <th>205049</th>\n",
       "      <td>[nice, fast, deliveri]</td>\n",
       "      <td>1</td>\n",
       "    </tr>\n",
       "    <tr>\n",
       "      <th>205050</th>\n",
       "      <td>[awesom, product]</td>\n",
       "      <td>1</td>\n",
       "    </tr>\n",
       "    <tr>\n",
       "      <th>205051</th>\n",
       "      <td>[good, mix, bowl, includ, one, disappointmenta...</td>\n",
       "      <td>2</td>\n",
       "    </tr>\n",
       "  </tbody>\n",
       "</table>\n",
       "<p>205041 rows × 2 columns</p>\n",
       "</div>"
      ],
      "text/plain": [
       "                                                    words  Sentiment\n",
       "0       [great, cooler, excel, air, flow, price, amaz,...          1\n",
       "1              [best, budget, 2, fit, cooler, nice, cool]          1\n",
       "2                     [qualiti, good, power, air, decent]          1\n",
       "3                                     [bad, product, fan]          3\n",
       "4                                       [ok, ok, product]          2\n",
       "...                                                   ...        ...\n",
       "205047                                    [good, product]          1\n",
       "205048                                             [nice]          1\n",
       "205049                             [nice, fast, deliveri]          1\n",
       "205050                                  [awesom, product]          1\n",
       "205051  [good, mix, bowl, includ, one, disappointmenta...          2\n",
       "\n",
       "[205041 rows x 2 columns]"
      ]
     },
     "execution_count": 25,
     "metadata": {},
     "output_type": "execute_result"
    }
   ],
   "source": [
    "data"
   ]
  },
  {
   "cell_type": "markdown",
   "id": "878b5b85-b180-4e71-8acc-eb164a2f9dac",
   "metadata": {},
   "source": [
    "### Feature Extraction"
   ]
  },
  {
   "cell_type": "code",
   "execution_count": 32,
   "id": "4f7cba54-27d8-452b-bc82-25788a6eff62",
   "metadata": {},
   "outputs": [
    {
     "name": "stderr",
     "output_type": "stream",
     "text": [
      "C:\\Users\\USER\\AppData\\Local\\Temp\\ipykernel_16276\\224939883.py:9: SettingWithCopyWarning: \n",
      "A value is trying to be set on a copy of a slice from a DataFrame.\n",
      "Try using .loc[row_indexer,col_indexer] = value instead\n",
      "\n",
      "See the caveats in the documentation: https://pandas.pydata.org/pandas-docs/stable/user_guide/indexing.html#returning-a-view-versus-a-copy\n",
      "  data['words']=data['words'].apply(word_vec)\n"
     ]
    }
   ],
   "source": [
    "import spacy    # covert the all words into vectors\n",
    "nlp=spacy.load('en_core_web_sm')\n",
    "\n",
    "def word_vec(x):\n",
    "    \n",
    "    doc=nlp(\" \".join(x))\n",
    "    return doc.vector\n",
    "\n",
    "data['words']=data['words'].apply(word_vec)\n",
    "# It takes the time to run minimum 7 hours.we need to save it after excution for future purpose."
   ]
  },
  {
   "cell_type": "code",
   "execution_count": 33,
   "id": "54f42739-d9a5-41ff-8c8c-609855db47b4",
   "metadata": {},
   "outputs": [
    {
     "data": {
      "text/html": [
       "<div>\n",
       "<style scoped>\n",
       "    .dataframe tbody tr th:only-of-type {\n",
       "        vertical-align: middle;\n",
       "    }\n",
       "\n",
       "    .dataframe tbody tr th {\n",
       "        vertical-align: top;\n",
       "    }\n",
       "\n",
       "    .dataframe thead th {\n",
       "        text-align: right;\n",
       "    }\n",
       "</style>\n",
       "<table border=\"1\" class=\"dataframe\">\n",
       "  <thead>\n",
       "    <tr style=\"text-align: right;\">\n",
       "      <th></th>\n",
       "      <th>words</th>\n",
       "      <th>Sentiment</th>\n",
       "    </tr>\n",
       "  </thead>\n",
       "  <tbody>\n",
       "    <tr>\n",
       "      <th>0</th>\n",
       "      <td>[0.12338492, -0.7267122, -0.008297642, 0.25418...</td>\n",
       "      <td>1</td>\n",
       "    </tr>\n",
       "    <tr>\n",
       "      <th>1</th>\n",
       "      <td>[-0.44948432, -0.66115016, 0.2951188, -0.25018...</td>\n",
       "      <td>1</td>\n",
       "    </tr>\n",
       "    <tr>\n",
       "      <th>2</th>\n",
       "      <td>[0.014499295, -0.9585245, -0.027478505, 0.0362...</td>\n",
       "      <td>1</td>\n",
       "    </tr>\n",
       "    <tr>\n",
       "      <th>3</th>\n",
       "      <td>[-0.16969812, -0.9981124, -0.5672185, 0.224146...</td>\n",
       "      <td>3</td>\n",
       "    </tr>\n",
       "    <tr>\n",
       "      <th>4</th>\n",
       "      <td>[-0.11683118, -0.26854527, 0.09549216, 0.21983...</td>\n",
       "      <td>2</td>\n",
       "    </tr>\n",
       "    <tr>\n",
       "      <th>...</th>\n",
       "      <td>...</td>\n",
       "      <td>...</td>\n",
       "    </tr>\n",
       "    <tr>\n",
       "      <th>205047</th>\n",
       "      <td>[-0.3995937, -0.7848972, -0.4270615, 0.4975634...</td>\n",
       "      <td>1</td>\n",
       "    </tr>\n",
       "    <tr>\n",
       "      <th>205048</th>\n",
       "      <td>[-1.0640047, -1.4607341, -0.37849128, -0.23538...</td>\n",
       "      <td>1</td>\n",
       "    </tr>\n",
       "    <tr>\n",
       "      <th>205049</th>\n",
       "      <td>[-0.49610472, -1.4048433, 0.13907982, 0.555913...</td>\n",
       "      <td>1</td>\n",
       "    </tr>\n",
       "    <tr>\n",
       "      <th>205050</th>\n",
       "      <td>[-0.7182589, -0.9594187, -0.46459287, 0.669171...</td>\n",
       "      <td>1</td>\n",
       "    </tr>\n",
       "    <tr>\n",
       "      <th>205051</th>\n",
       "      <td>[-0.4388644, -0.7806032, 0.2235208, 0.46621713...</td>\n",
       "      <td>2</td>\n",
       "    </tr>\n",
       "  </tbody>\n",
       "</table>\n",
       "<p>205041 rows × 2 columns</p>\n",
       "</div>"
      ],
      "text/plain": [
       "                                                    words  Sentiment\n",
       "0       [0.12338492, -0.7267122, -0.008297642, 0.25418...          1\n",
       "1       [-0.44948432, -0.66115016, 0.2951188, -0.25018...          1\n",
       "2       [0.014499295, -0.9585245, -0.027478505, 0.0362...          1\n",
       "3       [-0.16969812, -0.9981124, -0.5672185, 0.224146...          3\n",
       "4       [-0.11683118, -0.26854527, 0.09549216, 0.21983...          2\n",
       "...                                                   ...        ...\n",
       "205047  [-0.3995937, -0.7848972, -0.4270615, 0.4975634...          1\n",
       "205048  [-1.0640047, -1.4607341, -0.37849128, -0.23538...          1\n",
       "205049  [-0.49610472, -1.4048433, 0.13907982, 0.555913...          1\n",
       "205050  [-0.7182589, -0.9594187, -0.46459287, 0.669171...          1\n",
       "205051  [-0.4388644, -0.7806032, 0.2235208, 0.46621713...          2\n",
       "\n",
       "[205041 rows x 2 columns]"
      ]
     },
     "execution_count": 33,
     "metadata": {},
     "output_type": "execute_result"
    }
   ],
   "source": [
    "data"
   ]
  },
  {
   "cell_type": "code",
   "execution_count": null,
   "id": "ffe0020e-67b5-4314-bbc0-28a80d6b2e87",
   "metadata": {},
   "outputs": [],
   "source": [
    "# Save to a JSON file\n",
    "data.to_json('output.json', orient='records', lines=True) # save the vectorized data"
   ]
  },
  {
   "cell_type": "code",
   "execution_count": 3,
   "id": "2c80febb-34cd-494a-bb43-cc9827ca3d56",
   "metadata": {},
   "outputs": [],
   "source": [
    "data_2=pd.read_json('output.json',lines=True) #import the saved vectorized data"
   ]
  },
  {
   "cell_type": "code",
   "execution_count": 4,
   "id": "8034441b-e1aa-400c-a34d-ebfe1f6b34fe",
   "metadata": {},
   "outputs": [
    {
     "data": {
      "text/html": [
       "<div>\n",
       "<style scoped>\n",
       "    .dataframe tbody tr th:only-of-type {\n",
       "        vertical-align: middle;\n",
       "    }\n",
       "\n",
       "    .dataframe tbody tr th {\n",
       "        vertical-align: top;\n",
       "    }\n",
       "\n",
       "    .dataframe thead th {\n",
       "        text-align: right;\n",
       "    }\n",
       "</style>\n",
       "<table border=\"1\" class=\"dataframe\">\n",
       "  <thead>\n",
       "    <tr style=\"text-align: right;\">\n",
       "      <th></th>\n",
       "      <th>words</th>\n",
       "      <th>Sentiment</th>\n",
       "    </tr>\n",
       "  </thead>\n",
       "  <tbody>\n",
       "    <tr>\n",
       "      <th>0</th>\n",
       "      <td>[0.12338492270000001, -0.7267122269, -0.008297...</td>\n",
       "      <td>1</td>\n",
       "    </tr>\n",
       "    <tr>\n",
       "      <th>1</th>\n",
       "      <td>[-0.44948431850000004, -0.6611501575000001, 0....</td>\n",
       "      <td>1</td>\n",
       "    </tr>\n",
       "    <tr>\n",
       "      <th>2</th>\n",
       "      <td>[0.0144992946, -0.9585245252000001, -0.0274785...</td>\n",
       "      <td>1</td>\n",
       "    </tr>\n",
       "    <tr>\n",
       "      <th>3</th>\n",
       "      <td>[-0.1696981192, -0.9981123805000001, -0.567218...</td>\n",
       "      <td>3</td>\n",
       "    </tr>\n",
       "    <tr>\n",
       "      <th>4</th>\n",
       "      <td>[-0.11683118340000001, -0.26854527, 0.09549216...</td>\n",
       "      <td>2</td>\n",
       "    </tr>\n",
       "    <tr>\n",
       "      <th>...</th>\n",
       "      <td>...</td>\n",
       "      <td>...</td>\n",
       "    </tr>\n",
       "    <tr>\n",
       "      <th>205036</th>\n",
       "      <td>[-0.3995937109, -0.7848972082, -0.4270614982, ...</td>\n",
       "      <td>1</td>\n",
       "    </tr>\n",
       "    <tr>\n",
       "      <th>205037</th>\n",
       "      <td>[-1.0640046597, -1.460734129, -0.3784912825, -...</td>\n",
       "      <td>1</td>\n",
       "    </tr>\n",
       "    <tr>\n",
       "      <th>205038</th>\n",
       "      <td>[-0.4961047173, -1.4048433304, 0.1390798241, 0...</td>\n",
       "      <td>1</td>\n",
       "    </tr>\n",
       "    <tr>\n",
       "      <th>205039</th>\n",
       "      <td>[-0.7182589173, -0.959418714, -0.4645928741, 0...</td>\n",
       "      <td>1</td>\n",
       "    </tr>\n",
       "    <tr>\n",
       "      <th>205040</th>\n",
       "      <td>[-0.43886440990000003, -0.7806031704, 0.223520...</td>\n",
       "      <td>2</td>\n",
       "    </tr>\n",
       "  </tbody>\n",
       "</table>\n",
       "<p>205041 rows × 2 columns</p>\n",
       "</div>"
      ],
      "text/plain": [
       "                                                    words  Sentiment\n",
       "0       [0.12338492270000001, -0.7267122269, -0.008297...          1\n",
       "1       [-0.44948431850000004, -0.6611501575000001, 0....          1\n",
       "2       [0.0144992946, -0.9585245252000001, -0.0274785...          1\n",
       "3       [-0.1696981192, -0.9981123805000001, -0.567218...          3\n",
       "4       [-0.11683118340000001, -0.26854527, 0.09549216...          2\n",
       "...                                                   ...        ...\n",
       "205036  [-0.3995937109, -0.7848972082, -0.4270614982, ...          1\n",
       "205037  [-1.0640046597, -1.460734129, -0.3784912825, -...          1\n",
       "205038  [-0.4961047173, -1.4048433304, 0.1390798241, 0...          1\n",
       "205039  [-0.7182589173, -0.959418714, -0.4645928741, 0...          1\n",
       "205040  [-0.43886440990000003, -0.7806031704, 0.223520...          2\n",
       "\n",
       "[205041 rows x 2 columns]"
      ]
     },
     "execution_count": 4,
     "metadata": {},
     "output_type": "execute_result"
    }
   ],
   "source": [
    "data_2"
   ]
  },
  {
   "cell_type": "markdown",
   "id": "4ed6db27-04aa-481b-a097-1baea5cf911a",
   "metadata": {},
   "source": [
    "### Round the values"
   ]
  },
  {
   "cell_type": "code",
   "execution_count": 5,
   "id": "52e6b210-0f40-423d-869f-1d3706f37988",
   "metadata": {},
   "outputs": [],
   "source": [
    "vectorized_data=data_2['words']"
   ]
  },
  {
   "cell_type": "code",
   "execution_count": 6,
   "id": "5368389a-e73c-48b3-b4ce-a936b2d3d342",
   "metadata": {},
   "outputs": [],
   "source": [
    "vectorized_data=vectorized_data.apply(lambda x :[ round(value,3) for value in x]) ## Round the values"
   ]
  },
  {
   "cell_type": "code",
   "execution_count": 7,
   "id": "9250bb35-5654-496f-9d96-f66ec656f309",
   "metadata": {},
   "outputs": [],
   "source": [
    "vectorized_data=vectorized_data.apply(lambda x: np.array(x))  #to change the list into np.array"
   ]
  },
  {
   "cell_type": "code",
   "execution_count": 8,
   "id": "57a58494-8cf6-410d-8d7c-8435a5fbeac4",
   "metadata": {},
   "outputs": [
    {
     "data": {
      "text/plain": [
       "0         [0.123, -0.727, -0.008, 0.254, -0.299, -0.033,...\n",
       "1         [-0.449, -0.661, 0.295, -0.25, -0.485, 0.298, ...\n",
       "2         [0.014, -0.959, -0.027, 0.036, -0.318, 0.071, ...\n",
       "3         [-0.17, -0.998, -0.567, 0.224, -0.288, 0.097, ...\n",
       "4         [-0.117, -0.269, 0.095, 0.22, -0.425, -0.109, ...\n",
       "                                ...                        \n",
       "205036    [-0.4, -0.785, -0.427, 0.498, -0.324, -0.056, ...\n",
       "205037    [-1.064, -1.461, -0.378, -0.235, -0.811, 0.054...\n",
       "205038    [-0.496, -1.405, 0.139, 0.556, -0.548, 0.073, ...\n",
       "205039    [-0.718, -0.959, -0.465, 0.669, -0.652, -0.024...\n",
       "205040    [-0.439, -0.781, 0.224, 0.466, 0.012, -0.106, ...\n",
       "Name: words, Length: 205041, dtype: object"
      ]
     },
     "execution_count": 8,
     "metadata": {},
     "output_type": "execute_result"
    }
   ],
   "source": [
    "vectorized_data"
   ]
  },
  {
   "cell_type": "code",
   "execution_count": 9,
   "id": "8a37233c-2c57-48b9-912b-2d68f63bbad5",
   "metadata": {},
   "outputs": [],
   "source": [
    "X_data=pd.DataFrame(vectorized_data.tolist()) # single columns make into multiple columns"
   ]
  },
  {
   "cell_type": "code",
   "execution_count": 10,
   "id": "92464289-d86e-4d6d-a29c-80cbc0fe7915",
   "metadata": {},
   "outputs": [],
   "source": [
    "data_3=pd.concat([data_2,X_data],axis=1) "
   ]
  },
  {
   "cell_type": "code",
   "execution_count": 11,
   "id": "9ad8a646-163d-4d08-bbd7-cb540252ede3",
   "metadata": {},
   "outputs": [
    {
     "data": {
      "text/plain": [
       "RangeIndex(start=0, stop=96, step=1)"
      ]
     },
     "execution_count": 11,
     "metadata": {},
     "output_type": "execute_result"
    }
   ],
   "source": [
    "data_3.isnull().sum()"
   ]
  },
  {
   "cell_type": "code",
   "execution_count": 12,
   "id": "b3beb13f-e3cf-4ef2-b623-054601fdb7ce",
   "metadata": {},
   "outputs": [],
   "source": [
    "data_3=data_3.dropna() # there is new null values"
   ]
  },
  {
   "cell_type": "code",
   "execution_count": 74,
   "id": "7ad4c11a-8ba4-42a2-9a6f-2d31e5e2a3ab",
   "metadata": {},
   "outputs": [],
   "source": [
    "data_3.to_json('data_4.json',orient='records',lines=True) # This final is preprocessed data"
   ]
  },
  {
   "cell_type": "markdown",
   "id": "a7f5350c-25e5-49bd-a5d8-90ee12f6498a",
   "metadata": {},
   "source": [
    "# Classification (Train 80% Test 20%) with 4 models"
   ]
  },
  {
   "cell_type": "markdown",
   "id": "22cdf486-e3ae-40a5-882b-07cfcdc99335",
   "metadata": {},
   "source": [
    "### Feature Selection"
   ]
  },
  {
   "cell_type": "code",
   "execution_count": 14,
   "id": "1808d260-af22-4e31-88b4-a9b88d8e7304",
   "metadata": {},
   "outputs": [
    {
     "name": "stdout",
     "output_type": "stream",
     "text": [
      "Selected Features indices :[ 0  3  6  9 10 13 14 15 16 17 18 19 20 22 25 27 28 29 30 32 35 36 37 38\n",
      " 39 40 41 42 43 46 49 50 51 52 53 54 55 56 57 59 60 61 62 64 65 68 69 72\n",
      " 75 76 79 80 82 83 85 87 88 89 92 95]\n"
     ]
    }
   ],
   "source": [
    "from sklearn.feature_selection import SelectKBest, mutual_info_classif\n",
    "from sklearn.model_selection import train_test_split\n",
    "\n",
    "X=data_3.drop(['words','Sentiment'],axis=1)\n",
    "y=data_3['Sentiment']\n",
    "X_train,X_test,y_train,y_test=train_test_split(X,y,test_size=0.2,random_state=42)\n",
    "\n",
    "k_best=SelectKBest(score_func=mutual_info_classif,k=60)\n",
    "X_train_selected=k_best.fit_transform(X_train,y_train)\n",
    "X_test_selected=k_best.fit(X_test,y_test)\n",
    "\n",
    "selected_features_indices=k_best.get_support(indices=True)\n",
    "print(f'Selected Features indices :{selected_features_indices}')"
   ]
  },
  {
   "cell_type": "code",
   "execution_count": 15,
   "id": "7ae3ac1b-e1dd-493e-9967-3d4f39fffac6",
   "metadata": {},
   "outputs": [],
   "source": [
    "selected_features=[0,3,4,6,9,10,11,14,15,17,18,19,20,22,25,27,28,29,30,32,35,36,37,38\n",
    ",40,41,42,46,47,48,50,51,52,53,54,55,56,57,60,61,62,63,64,65,69,72,73,75\n",
    " ,76,77,79,82,83,85,87,88,89,92,94,95]"
   ]
  },
  {
   "cell_type": "code",
   "execution_count": 16,
   "id": "87a50413-d596-4f9e-a1fd-2015cd4bc907",
   "metadata": {},
   "outputs": [],
   "source": [
    "X_train_selected=X_train.iloc[:,selected_features]\n",
    "X_test_selected=X_test.iloc[:,selected_features]"
   ]
  },
  {
   "cell_type": "markdown",
   "id": "9fa7e6c9-1b71-4c9f-a933-e5cf1710ff5d",
   "metadata": {},
   "source": [
    "## 1.LSTM"
   ]
  },
  {
   "cell_type": "code",
   "execution_count": null,
   "id": "0e9f6997-0657-4de3-b01a-f0926588c611",
   "metadata": {},
   "outputs": [
    {
     "name": "stderr",
     "output_type": "stream",
     "text": [
      "C:\\Users\\USER\\AppData\\Local\\Programs\\Python\\Python312\\Lib\\site-packages\\keras\\src\\layers\\core\\embedding.py:90: UserWarning: Argument `input_length` is deprecated. Just remove it.\n",
      "  warnings.warn(\n"
     ]
    },
    {
     "data": {
      "text/html": [
       "<pre style=\"white-space:pre;overflow-x:auto;line-height:normal;font-family:Menlo,'DejaVu Sans Mono',consolas,'Courier New',monospace\"><span style=\"font-weight: bold\">Model: \"sequential\"</span>\n",
       "</pre>\n"
      ],
      "text/plain": [
       "\u001b[1mModel: \"sequential\"\u001b[0m\n"
      ]
     },
     "metadata": {},
     "output_type": "display_data"
    },
    {
     "data": {
      "text/html": [
       "<pre style=\"white-space:pre;overflow-x:auto;line-height:normal;font-family:Menlo,'DejaVu Sans Mono',consolas,'Courier New',monospace\">┏━━━━━━━━━━━━━━━━━━━━━━━━━━━━━━━━━━━━━━┳━━━━━━━━━━━━━━━━━━━━━━━━━━━━━┳━━━━━━━━━━━━━━━━━┓\n",
       "┃<span style=\"font-weight: bold\"> Layer (type)                         </span>┃<span style=\"font-weight: bold\"> Output Shape                </span>┃<span style=\"font-weight: bold\">         Param # </span>┃\n",
       "┡━━━━━━━━━━━━━━━━━━━━━━━━━━━━━━━━━━━━━━╇━━━━━━━━━━━━━━━━━━━━━━━━━━━━━╇━━━━━━━━━━━━━━━━━┩\n",
       "│ embedding (<span style=\"color: #0087ff; text-decoration-color: #0087ff\">Embedding</span>)                │ ?                           │     <span style=\"color: #00af00; text-decoration-color: #00af00\">0</span> (unbuilt) │\n",
       "├──────────────────────────────────────┼─────────────────────────────┼─────────────────┤\n",
       "│ spatial_dropout1d (<span style=\"color: #0087ff; text-decoration-color: #0087ff\">SpatialDropout1D</span>) │ ?                           │     <span style=\"color: #00af00; text-decoration-color: #00af00\">0</span> (unbuilt) │\n",
       "├──────────────────────────────────────┼─────────────────────────────┼─────────────────┤\n",
       "│ lstm (<span style=\"color: #0087ff; text-decoration-color: #0087ff\">LSTM</span>)                          │ ?                           │     <span style=\"color: #00af00; text-decoration-color: #00af00\">0</span> (unbuilt) │\n",
       "├──────────────────────────────────────┼─────────────────────────────┼─────────────────┤\n",
       "│ dense (<span style=\"color: #0087ff; text-decoration-color: #0087ff\">Dense</span>)                        │ ?                           │     <span style=\"color: #00af00; text-decoration-color: #00af00\">0</span> (unbuilt) │\n",
       "└──────────────────────────────────────┴─────────────────────────────┴─────────────────┘\n",
       "</pre>\n"
      ],
      "text/plain": [
       "┏━━━━━━━━━━━━━━━━━━━━━━━━━━━━━━━━━━━━━━┳━━━━━━━━━━━━━━━━━━━━━━━━━━━━━┳━━━━━━━━━━━━━━━━━┓\n",
       "┃\u001b[1m \u001b[0m\u001b[1mLayer (type)                        \u001b[0m\u001b[1m \u001b[0m┃\u001b[1m \u001b[0m\u001b[1mOutput Shape               \u001b[0m\u001b[1m \u001b[0m┃\u001b[1m \u001b[0m\u001b[1m        Param #\u001b[0m\u001b[1m \u001b[0m┃\n",
       "┡━━━━━━━━━━━━━━━━━━━━━━━━━━━━━━━━━━━━━━╇━━━━━━━━━━━━━━━━━━━━━━━━━━━━━╇━━━━━━━━━━━━━━━━━┩\n",
       "│ embedding (\u001b[38;5;33mEmbedding\u001b[0m)                │ ?                           │     \u001b[38;5;34m0\u001b[0m (unbuilt) │\n",
       "├──────────────────────────────────────┼─────────────────────────────┼─────────────────┤\n",
       "│ spatial_dropout1d (\u001b[38;5;33mSpatialDropout1D\u001b[0m) │ ?                           │     \u001b[38;5;34m0\u001b[0m (unbuilt) │\n",
       "├──────────────────────────────────────┼─────────────────────────────┼─────────────────┤\n",
       "│ lstm (\u001b[38;5;33mLSTM\u001b[0m)                          │ ?                           │     \u001b[38;5;34m0\u001b[0m (unbuilt) │\n",
       "├──────────────────────────────────────┼─────────────────────────────┼─────────────────┤\n",
       "│ dense (\u001b[38;5;33mDense\u001b[0m)                        │ ?                           │     \u001b[38;5;34m0\u001b[0m (unbuilt) │\n",
       "└──────────────────────────────────────┴─────────────────────────────┴─────────────────┘\n"
      ]
     },
     "metadata": {},
     "output_type": "display_data"
    },
    {
     "data": {
      "text/html": [
       "<pre style=\"white-space:pre;overflow-x:auto;line-height:normal;font-family:Menlo,'DejaVu Sans Mono',consolas,'Courier New',monospace\"><span style=\"font-weight: bold\"> Total params: </span><span style=\"color: #00af00; text-decoration-color: #00af00\">0</span> (0.00 B)\n",
       "</pre>\n"
      ],
      "text/plain": [
       "\u001b[1m Total params: \u001b[0m\u001b[38;5;34m0\u001b[0m (0.00 B)\n"
      ]
     },
     "metadata": {},
     "output_type": "display_data"
    },
    {
     "data": {
      "text/html": [
       "<pre style=\"white-space:pre;overflow-x:auto;line-height:normal;font-family:Menlo,'DejaVu Sans Mono',consolas,'Courier New',monospace\"><span style=\"font-weight: bold\"> Trainable params: </span><span style=\"color: #00af00; text-decoration-color: #00af00\">0</span> (0.00 B)\n",
       "</pre>\n"
      ],
      "text/plain": [
       "\u001b[1m Trainable params: \u001b[0m\u001b[38;5;34m0\u001b[0m (0.00 B)\n"
      ]
     },
     "metadata": {},
     "output_type": "display_data"
    },
    {
     "data": {
      "text/html": [
       "<pre style=\"white-space:pre;overflow-x:auto;line-height:normal;font-family:Menlo,'DejaVu Sans Mono',consolas,'Courier New',monospace\"><span style=\"font-weight: bold\"> Non-trainable params: </span><span style=\"color: #00af00; text-decoration-color: #00af00\">0</span> (0.00 B)\n",
       "</pre>\n"
      ],
      "text/plain": [
       "\u001b[1m Non-trainable params: \u001b[0m\u001b[38;5;34m0\u001b[0m (0.00 B)\n"
      ]
     },
     "metadata": {},
     "output_type": "display_data"
    },
    {
     "name": "stdout",
     "output_type": "stream",
     "text": [
      "None\n",
      "Epoch 1/10\n",
      "\u001b[1m4485/4485\u001b[0m \u001b[32m━━━━━━━━━━━━━━━━━━━━\u001b[0m\u001b[37m\u001b[0m \u001b[1m348s\u001b[0m 76ms/step - accuracy: 0.8102 - loss: -38.1957 - val_accuracy: 0.8141 - val_loss: -139.9187\n",
      "Epoch 2/10\n",
      "\u001b[1m4485/4485\u001b[0m \u001b[32m━━━━━━━━━━━━━━━━━━━━\u001b[0m\u001b[37m\u001b[0m \u001b[1m921s\u001b[0m 205ms/step - accuracy: 0.8111 - loss: -175.8372 - val_accuracy: 0.8141 - val_loss: -274.8657\n",
      "Epoch 3/10\n",
      "\u001b[1m4485/4485\u001b[0m \u001b[32m━━━━━━━━━━━━━━━━━━━━\u001b[0m\u001b[37m\u001b[0m \u001b[1m631s\u001b[0m 141ms/step - accuracy: 0.8108 - loss: -313.7098 - val_accuracy: 0.8141 - val_loss: -410.0056\n",
      "Epoch 4/10\n",
      "\u001b[1m4191/4485\u001b[0m \u001b[32m━━━━━━━━━━━━━━━━━━\u001b[0m\u001b[37m━━\u001b[0m \u001b[1m1:06\u001b[0m 227ms/step - accuracy: 0.8114 - loss: -445.7547"
     ]
    }
   ],
   "source": [
    "from keras.models import Sequential\n",
    "from keras.layers import LSTM, Dense, Embedding, SpatialDropout1D\n",
    "\n",
    "# Define the LSTM model\n",
    "model = Sequential()\n",
    "model.add(Embedding(input_dim=20000, output_dim=100, input_length=60))\n",
    "model.add(SpatialDropout1D(0.2))\n",
    "model.add(LSTM(100, dropout=0.2, recurrent_dropout=0.2))\n",
    "model.add(Dense(1, activation='sigmoid'))\n",
    "\n",
    "# Compile the model\n",
    "model.compile(loss='binary_crossentropy', optimizer='adam', metrics=['accuracy'])\n",
    "\n",
    "print(model.summary())\n",
    "history = model.fit(X_train_selected, y_train, epochs=10, batch_size=32, validation_data=(X_test_selected, y_test))\n",
    "loss, accuracy = model.evaluate(X_test, y_test)\n",
    "print(f\"Test Accuracy: {accuracy}\")\n"
   ]
  },
  {
   "cell_type": "markdown",
   "id": "51621e3e-2332-497a-9d1b-398fdd54b63a",
   "metadata": {},
   "source": [
    "### Report"
   ]
  },
  {
   "cell_type": "code",
   "execution_count": 71,
   "id": "84f6d0aa-0beb-466b-9b65-70caeeaf2b0c",
   "metadata": {},
   "outputs": [
    {
     "name": "stdout",
     "output_type": "stream",
     "text": [
      "\u001b[1m1282/1282\u001b[0m \u001b[32m━━━━━━━━━━━━━━━━━━━━\u001b[0m\u001b[37m\u001b[0m \u001b[1m24s\u001b[0m 19ms/step\n",
      "Accuracy: 0.8123567003268453\n",
      "Precision: 0.6599234085659198\n",
      "Recall (Sensitivity): 0.8123567003268453\n",
      "F1-Score: 0.7282489241184227\n",
      "Specificity (True Negative Rate): 0.6666666666666666\n",
      "Matthews Correlation Coefficient (MCC): 0.0\n",
      "Negative Predictive Value (NPV): 0.6041189001089484\n",
      "False Positive Rate (FPR): 0.3333333333333333\n",
      "False Negative Rate (FNR): 0.6666666666666666\n"
     ]
    }
   ],
   "source": [
    "from sklearn.metrics import accuracy_score, precision_score, recall_score, f1_score, confusion_matrix, matthews_corrcoef\n",
    "import numpy as np\n",
    "\n",
    "# Assuming X_test_selected and y_test are already defined and the LSTM model has been trained and is named `model`\n",
    "\n",
    "# Make predictions on the test data\n",
    "lstm_pred = model.predict(X_test_selected)\n",
    "\n",
    "# Calculate Accuracy\n",
    "accuracy = accuracy_score(y_test, lstm_pred)\n",
    "print(f\"Accuracy: {accuracy}\")\n",
    "\n",
    "# Calculate Precision\n",
    "precision = precision_score(y_test, lstm_pred, average='weighted', zero_division=0)\n",
    "print(f\"Precision: {precision}\")\n",
    "\n",
    "# Calculate Recall (Sensitivity or True Positive Rate)\n",
    "recall = recall_score(y_test, lstm_pred, average='weighted', zero_division=0)\n",
    "print(f\"Recall (Sensitivity): {recall}\")\n",
    "\n",
    "# Calculate F1-Score\n",
    "f1 = f1_score(y_test, lstm_pred, average='weighted', zero_division=0)\n",
    "print(f\"F1-Score: {f1}\")\n",
    "\n",
    "# Calculate the confusion matrix\n",
    "cm = confusion_matrix(y_test, lstm_pred)\n",
    "\n",
    "# Calculate True Positives (TP), False Positives (FP), False Negatives (FN), True Negatives (TN)\n",
    "TP = np.diag(cm)  # True Positives\n",
    "FP = np.sum(cm, axis=0) - TP  # False Positives\n",
    "FN = np.sum(cm, axis=1) - TP  # False Negatives\n",
    "TN = np.sum(cm) - (TP + FP + FN)  # True Negatives\n",
    "\n",
    "# Calculate metrics ensuring no division by zero\n",
    "def safe_divide(numerator, denominator):\n",
    "    return np.divide(numerator, denominator, out=np.zeros_like(numerator, dtype=float), where=denominator != 0)\n",
    "\n",
    "# Calculate Specificity (True Negative Rate)\n",
    "specificity = safe_divide(TN, (TN + FP))\n",
    "specificity = np.mean(specificity)  # Average specificity for multiclass\n",
    "print(f\"Specificity (True Negative Rate): {specificity}\")\n",
    "\n",
    "# Calculate Matthews Correlation Coefficient (MCC)\n",
    "mcc = matthews_corrcoef(y_test, lstm_pred)\n",
    "print(f\"Matthews Correlation Coefficient (MCC): {mcc}\")\n",
    "\n",
    "# Calculate Negative Predictive Value (NPV)\n",
    "npv = safe_divide(TN, (TN + FN))\n",
    "npv = np.mean(npv)  # Average NPV for multiclass\n",
    "print(f\"Negative Predictive Value (NPV): {npv}\")\n",
    "\n",
    "# Calculate False Positive Rate (FPR)\n",
    "fpr = safe_divide(FP, (FP + TN))\n",
    "fpr = np.mean(fpr)  # Average FPR for multiclass\n",
    "print(f\"False Positive Rate (FPR): {fpr}\")\n",
    "\n",
    "# Calculate False Negative Rate (FNR)\n",
    "fnr = safe_divide(FN, (FN + TP))\n",
    "fnr = np.mean(fnr)  # Average FNR for multiclass\n",
    "print(f\"False Negative Rate (FNR): {fnr}\")\n"
   ]
  },
  {
   "cell_type": "markdown",
   "id": "a91b0f4a-31b8-415f-b41c-60ef683a38d3",
   "metadata": {},
   "source": [
    "## 2.Logistic Regression"
   ]
  },
  {
   "cell_type": "code",
   "execution_count": 50,
   "id": "fab45fdd-b147-4a4f-ae80-81ab03b48dbf",
   "metadata": {},
   "outputs": [],
   "source": [
    "from sklearn.linear_model import LogisticRegression\n",
    "from sklearn.metrics import classification_report,confusion_matrix\n",
    "\n",
    "model2=LogisticRegression()\n",
    "model2.fit(X_train_selected,y_train)\n",
    "lr_pred=model2.predict(X_test_selected)"
   ]
  },
  {
   "cell_type": "code",
   "execution_count": 64,
   "id": "8f053e2d-ab10-4b6a-ae3b-37dacb45c1b2",
   "metadata": {
    "scrolled": true
   },
   "outputs": [
    {
     "name": "stdout",
     "output_type": "stream",
     "text": [
      "Accuracy: 0.8435045611981072\n",
      "Precision: 0.8236043272296382\n",
      "Recall (Sensitivity): 0.8435045611981072\n",
      "F1-Score: 0.8133471742197949\n",
      "Specificity: [0.29702327 0.99641026 0.97541285]\n",
      "Matthews Correlation Coefficient (MCC): 0.39214694273876444\n",
      "Negative Predictive Value (NPV): [0.74844415 0.96281063 0.89251464]\n",
      "False Positive Rate (FPR): [0.70297673 0.00358974 0.02458715]\n",
      "False Negative Rate (FNR): [0.0230596  0.75125125 0.72818262]\n"
     ]
    }
   ],
   "source": [
    "\n",
    "accuracy = accuracy_score(y_test,lr_pred)\n",
    "\n",
    "# Calculate Precision\n",
    "precision = precision_score(y_test,lr_pred,average='weighted')\n",
    "\n",
    "# Calculate Recall (Sensitivity or True Positive Rate)\n",
    "recall = recall_score(y_test,lr_pred,average='weighted')\n",
    "\n",
    "# Calculate F1-Score\n",
    "f1 = f1_score(y_test,lr_pred,average='weighted')\n",
    "cm = confusion_matrix(y_test,lr_pred)\n",
    "\n",
    "# Handle case where confusion matrix is 1-dimensional\n",
    "if cm.ndim == 1:\n",
    "    TP = cm[0]  # True Positives\n",
    "    FP = 0      # False Positives (no false positives in this case)\n",
    "    FN = 0      # False Negatives (no false negatives in this case)\n",
    "    TN = 0      # True Negatives (no true negatives in this case)\n",
    "else:\n",
    "    TP = np.diag(cm)  # True Positives\n",
    "    FP = np.sum(cm, axis=0) - TP  # False Positives\n",
    "    FN = np.sum(cm, axis=1) - TP  # False Negatives\n",
    "    TN = np.sum(cm) - (TP + FP + FN)\n",
    "\n",
    "# Calculate True Negatives (TN)\n",
    "total_samples = np.sum(cm)\n",
    "TN = total_samples - (TP + FP + FN)\n",
    "\n",
    "\n",
    "# Calculate Matthews Correlation Coefficient (MCC)\n",
    "mcc = matthews_corrcoef(y_test,lr_pred)\n",
    "\n",
    "# Calculate Negative Predictive Value (NPV)\n",
    "npv = TN / (TN + FN)\n",
    "\n",
    "# Calculate False Positive Rate (FPR)\n",
    "fpr = FP / (FP + TN)\n",
    "\n",
    "specificity = TN / (TN + FP)\n",
    "\n",
    "# Calculate False Negative Rate (FNR)\n",
    "fnr = FN / (FN + TP)\n",
    "print(f\"Accuracy: {accuracy}\")\n",
    "print(f\"Precision: {precision}\")\n",
    "print(f\"Recall (Sensitivity): {recall}\")\n",
    "print(f\"F1-Score: {f1}\")\n",
    "print(f\"Specificity: {specificity}\")\n",
    "print(f\"Matthews Correlation Coefficient (MCC): {mcc}\")\n",
    "print(f\"Negative Predictive Value (NPV): {npv}\")\n",
    "print(f\"False Positive Rate (FPR): {fpr}\")\n",
    "print(f\"False Negative Rate (FNR): {fnr}\")"
   ]
  },
  {
   "cell_type": "markdown",
   "id": "b0f2d4ab-663a-49f9-96c1-c4a16694ecd2",
   "metadata": {},
   "source": [
    "## 3.Decision Tree"
   ]
  },
  {
   "cell_type": "code",
   "execution_count": 66,
   "id": "90240af6-ee15-4de5-8941-7679bcba4ec5",
   "metadata": {},
   "outputs": [
    {
     "name": "stdout",
     "output_type": "stream",
     "text": [
      "Accuracy: 0.8363578711156642\n",
      "Precision: 0.8349725357116438\n",
      "Recall (Sensitivity): 0.8363578711156642\n",
      "F1-Score: 0.835646491811487\n",
      "Specificity (True Negative Rate): 0.8335233373864744\n",
      "Matthews Correlation Coefficient (MCC): 0.48189991609558497\n",
      "Negative Predictive Value (NPV): 0.8363229681729472\n",
      "False Positive Rate (FPR): 0.16647666261352548\n",
      "False Negative Rate (FNR): 0.37292456674618074\n"
     ]
    }
   ],
   "source": [
    "from sklearn.tree import DecisionTreeClassifier\n",
    "# Assuming X_train_selected, y_train, X_test_selected, y_test are already defined\n",
    "\n",
    "# Create and train the decision tree classifier model\n",
    "dc_model = DecisionTreeClassifier()\n",
    "dc_model.fit(X_train_selected, y_train)\n",
    "\n",
    "# Make predictions on the test data\n",
    "dc_pred = dc_model.predict(X_test_selected)\n",
    "\n",
    "# Calculate Accuracy\n",
    "accuracy = accuracy_score(y_test, dc_pred)\n",
    "print(f\"Accuracy: {accuracy}\")\n",
    "\n",
    "# Calculate Precision\n",
    "precision = precision_score(y_test, dc_pred, average='weighted')\n",
    "print(f\"Precision: {precision}\")\n",
    "\n",
    "# Calculate Recall (Sensitivity or True Positive Rate)\n",
    "recall = recall_score(y_test, dc_pred, average='weighted')\n",
    "print(f\"Recall (Sensitivity): {recall}\")\n",
    "\n",
    "# Calculate F1-Score\n",
    "f1 = f1_score(y_test, dc_pred, average='weighted')\n",
    "print(f\"F1-Score: {f1}\")\n",
    "\n",
    "# Calculate the confusion matrix\n",
    "cm = confusion_matrix(y_test, dc_pred)\n",
    "\n",
    "# Handle case where confusion matrix is 1-dimensional\n",
    "if cm.ndim == 1:\n",
    "    TP = cm[0]  # True Positives\n",
    "    FP = 0      # False Positives (no false positives in this case)\n",
    "    FN = 0      # False Negatives (no false negatives in this case)\n",
    "    TN = 0      # True Negatives (no true negatives in this case)\n",
    "else:\n",
    "    TP = np.diag(cm)  # True Positives\n",
    "    FP = np.sum(cm, axis=0) - TP  # False Positives\n",
    "    FN = np.sum(cm, axis=1) - TP  # False Negatives\n",
    "    TN = np.sum(cm) - (TP + FP + FN)  # True Negatives\n",
    "\n",
    "# Calculate metrics ensuring no division by zero\n",
    "def safe_divide(numerator, denominator):\n",
    "    return np.divide(numerator, denominator, out=np.zeros_like(numerator, dtype=float), where=denominator != 0)\n",
    "\n",
    "# Calculate Specificity (True Negative Rate)\n",
    "specificity = safe_divide(TN, (TN + FP))\n",
    "specificity = np.mean(specificity)  # Average specificity for multiclass\n",
    "\n",
    "# Calculate Matthews Correlation Coefficient (MCC)\n",
    "mcc = matthews_corrcoef(y_test, dc_pred)\n",
    "\n",
    "# Calculate Negative Predictive Value (NPV)\n",
    "npv = safe_divide(TN, (TN + FN))\n",
    "npv = np.mean(npv)  # Average NPV for multiclass\n",
    "\n",
    "# Calculate False Positive Rate (FPR)\n",
    "fpr = safe_divide(FP, (FP + TN))\n",
    "fpr = np.mean(fpr)  # Average FPR for multiclass\n",
    "\n",
    "# Calculate False Negative Rate (FNR)\n",
    "fnr = safe_divide(FN, (FN + TP))\n",
    "fnr = np.mean(fnr)  # Average FNR for multiclass\n",
    "\n",
    "print(f\"Specificity (True Negative Rate): {specificity}\")\n",
    "print(f\"Matthews Correlation Coefficient (MCC): {mcc}\")\n",
    "print(f\"Negative Predictive Value (NPV): {npv}\")\n",
    "print(f\"False Positive Rate (FPR): {fpr}\")\n",
    "print(f\"False Negative Rate (FNR): {fnr}\")\n"
   ]
  },
  {
   "cell_type": "markdown",
   "id": "035131d8-3aa0-44c7-a15f-0f539c1b3d6a",
   "metadata": {},
   "source": [
    "## 4.Random Forest"
   ]
  },
  {
   "cell_type": "code",
   "execution_count": 73,
   "id": "55392aa3-feaf-4031-9646-dd065e8ca135",
   "metadata": {},
   "outputs": [
    {
     "name": "stdout",
     "output_type": "stream",
     "text": [
      "Accuracy: 0.8818966778867262\n",
      "Precision: 0.8749840981943073\n",
      "Recall (Sensitivity): 0.8818966778867262\n",
      "F1-Score: 0.8656044030640568\n",
      "Specificity: [0.47081763 0.99428205 0.98447724]\n",
      "Matthews Correlation Coefficient (MCC): 0.5751783955913334\n",
      "Negative Predictive Value (NPV): [0.88363015 0.96983718 0.91667985]\n",
      "False Positive Rate (FPR): [0.52918237 0.00571795 0.01552276]\n",
      "False Negative Rate (FNR): [0.01432217 0.6036036  0.5546971 ]\n"
     ]
    }
   ],
   "source": [
    "from sklearn.ensemble import RandomForestClassifier\n",
    "rf_model = RandomForestClassifier(n_estimators=100, random_state=42)\n",
    "rf_model.fit(X_train_selected, y_train)\n",
    "rf_pred = rf_model.predict(X_test_selected)\n",
    "\n",
    "accuracy = accuracy_score(y_test,rf_pred)\n",
    "\n",
    "# Calculate Precision\n",
    "precision = precision_score(y_test,rf_pred,average='weighted')\n",
    "\n",
    "# Calculate Recall (Sensitivity or True Positive Rate)\n",
    "recall = recall_score(y_test,rf_pred,average='weighted')\n",
    "\n",
    "# Calculate F1-Score\n",
    "f1 = f1_score(y_test,rf_pred,average='weighted')\n",
    "cm = confusion_matrix(y_test,rf_pred)\n",
    "\n",
    "# Handle case where confusion matrix is 1-dimensional\n",
    "if cm.ndim == 1:\n",
    "    TP = cm[0]  # True Positives\n",
    "    FP = 0      # False Positives (no false positives in this case)\n",
    "    FN = 0      # False Negatives (no false negatives in this case)\n",
    "    TN = 0      # True Negatives (no true negatives in this case)\n",
    "else:\n",
    "    TP = np.diag(cm)  # True Positives\n",
    "    FP = np.sum(cm, axis=0) - TP  # False Positives\n",
    "    FN = np.sum(cm, axis=1) - TP  # False Negatives\n",
    "    TN = np.sum(cm) - (TP + FP + FN)\n",
    "\n",
    "# Calculate True Negatives (TN)\n",
    "total_samples = np.sum(cm)\n",
    "TN = total_samples - (TP + FP + FN)\n",
    "\n",
    "\n",
    "# Calculate Matthews Correlation Coefficient (MCC)\n",
    "mcc = matthews_corrcoef(y_test,rf_pred)\n",
    "\n",
    "# Calculate Negative Predictive Value (NPV)\n",
    "npv = TN / (TN + FN)\n",
    "\n",
    "# Calculate False Positive Rate (FPR)\n",
    "fpr = FP / (FP + TN)\n",
    "\n",
    "specificity = TN / (TN + FP)\n",
    "\n",
    "# Calculate False Negative Rate (FNR)\n",
    "fnr = FN / (FN + TP)\n",
    "print(f\"Accuracy: {accuracy}\")\n",
    "print(f\"Precision: {precision}\")\n",
    "print(f\"Recall (Sensitivity): {recall}\")\n",
    "print(f\"F1-Score: {f1}\")\n",
    "print(f\"Specificity: {specificity}\")\n",
    "print(f\"Matthews Correlation Coefficient (MCC): {mcc}\")\n",
    "print(f\"Negative Predictive Value (NPV): {npv}\")\n",
    "print(f\"False Positive Rate (FPR): {fpr}\")\n",
    "print(f\"False Negative Rate (FNR): {fnr}\")\n",
    "\n"
   ]
  },
  {
   "cell_type": "markdown",
   "id": "a4b60481-044a-4215-87a1-cd71cd9c301a",
   "metadata": {},
   "source": [
    "# Classifiction (Train 70% and Test 30%) with 4 models"
   ]
  },
  {
   "cell_type": "code",
   "execution_count": 2,
   "id": "9a4724e9-6781-486c-ae5d-e1a75a4ac2ca",
   "metadata": {},
   "outputs": [],
   "source": [
    "data_3=pd.read_json('data_4.json',lines=True)  # Get the saved preprocessed data"
   ]
  },
  {
   "cell_type": "code",
   "execution_count": 3,
   "id": "1cce5275-9264-41b4-a4cd-d1154adfe535",
   "metadata": {},
   "outputs": [
    {
     "name": "stdout",
     "output_type": "stream",
     "text": [
      "Selected Features indices :[ 0  2  3  6  9 10 11 13 15 16 17 18 19 20 22 25 27 28 29 30 31 32 34 35\n",
      " 36 37 38 39 40 41 42 45 46 47 48 50 51 52 53 54 56 57 60 61 64 65 69 72\n",
      " 73 76 79 80 82 83 85 87 88 89 92 94]\n"
     ]
    }
   ],
   "source": [
    "from sklearn.feature_selection import SelectKBest, mutual_info_classif\n",
    "from sklearn.model_selection import train_test_split\n",
    "\n",
    "X=data_3.drop(['words','Sentiment'],axis=1)\n",
    "y=data_3['Sentiment']\n",
    "X_train,X_test,y_train,y_test=train_test_split(X,y,test_size=0.3,random_state=42)\n",
    "\n",
    "k_best=SelectKBest(score_func=mutual_info_classif,k=60)\n",
    "X_train_selected=k_best.fit_transform(X_train,y_train)\n",
    "X_test_selected=k_best.fit(X_test,y_test)\n",
    "\n",
    "selected_features_indices=k_best.get_support(indices=True)\n",
    "print(f'Selected Features indices :{selected_features_indices}')"
   ]
  },
  {
   "cell_type": "code",
   "execution_count": 6,
   "id": "ae72c352-c9f6-4fc9-9af0-3e6f40c4c89e",
   "metadata": {},
   "outputs": [],
   "source": [
    "selected_features=[0,2,3,6,9,10,11,13,14,15,16,17,18,19,20,22,25,27,28,29,30,32,33,34,35,36,37,38,39\n",
    ",41,42,43,44,45,46,47,50,51,52,53,54,56,57,60,61,63,64,69,72,73\n",
    " ,76,78,82,83,85,87,88,89,92,94]"
   ]
  },
  {
   "cell_type": "code",
   "execution_count": 7,
   "id": "aa5794ec-1150-4c46-a43c-c3d64d6f6f3f",
   "metadata": {},
   "outputs": [
    {
     "data": {
      "text/plain": [
       "60"
      ]
     },
     "execution_count": 7,
     "metadata": {},
     "output_type": "execute_result"
    }
   ],
   "source": [
    "len(selected_features)"
   ]
  },
  {
   "cell_type": "code",
   "execution_count": 8,
   "id": "2d8b6b02-1a21-492f-9390-ea2693ec151d",
   "metadata": {},
   "outputs": [],
   "source": [
    "X_train_selected=X_train.iloc[:,selected_features]\n",
    "X_test_selected=X_test.iloc[:,selected_features]"
   ]
  },
  {
   "cell_type": "markdown",
   "id": "47f52520-4904-4124-935e-254d985609a3",
   "metadata": {},
   "source": [
    "### 1.LSTM"
   ]
  },
  {
   "cell_type": "code",
   "execution_count": 7,
   "id": "d85d4307-ecb7-49f4-8609-213477adc247",
   "metadata": {},
   "outputs": [
    {
     "name": "stderr",
     "output_type": "stream",
     "text": [
      "C:\\Users\\USER\\AppData\\Local\\Programs\\Python\\Python312\\Lib\\site-packages\\keras\\src\\layers\\core\\embedding.py:90: UserWarning: Argument `input_length` is deprecated. Just remove it.\n",
      "  warnings.warn(\n"
     ]
    },
    {
     "data": {
      "text/html": [
       "<pre style=\"white-space:pre;overflow-x:auto;line-height:normal;font-family:Menlo,'DejaVu Sans Mono',consolas,'Courier New',monospace\"><span style=\"font-weight: bold\">Model: \"sequential\"</span>\n",
       "</pre>\n"
      ],
      "text/plain": [
       "\u001b[1mModel: \"sequential\"\u001b[0m\n"
      ]
     },
     "metadata": {},
     "output_type": "display_data"
    },
    {
     "data": {
      "text/html": [
       "<pre style=\"white-space:pre;overflow-x:auto;line-height:normal;font-family:Menlo,'DejaVu Sans Mono',consolas,'Courier New',monospace\">┏━━━━━━━━━━━━━━━━━━━━━━━━━━━━━━━━━━━━━━┳━━━━━━━━━━━━━━━━━━━━━━━━━━━━━┳━━━━━━━━━━━━━━━━━┓\n",
       "┃<span style=\"font-weight: bold\"> Layer (type)                         </span>┃<span style=\"font-weight: bold\"> Output Shape                </span>┃<span style=\"font-weight: bold\">         Param # </span>┃\n",
       "┡━━━━━━━━━━━━━━━━━━━━━━━━━━━━━━━━━━━━━━╇━━━━━━━━━━━━━━━━━━━━━━━━━━━━━╇━━━━━━━━━━━━━━━━━┩\n",
       "│ embedding (<span style=\"color: #0087ff; text-decoration-color: #0087ff\">Embedding</span>)                │ ?                           │     <span style=\"color: #00af00; text-decoration-color: #00af00\">0</span> (unbuilt) │\n",
       "├──────────────────────────────────────┼─────────────────────────────┼─────────────────┤\n",
       "│ spatial_dropout1d (<span style=\"color: #0087ff; text-decoration-color: #0087ff\">SpatialDropout1D</span>) │ ?                           │     <span style=\"color: #00af00; text-decoration-color: #00af00\">0</span> (unbuilt) │\n",
       "├──────────────────────────────────────┼─────────────────────────────┼─────────────────┤\n",
       "│ lstm (<span style=\"color: #0087ff; text-decoration-color: #0087ff\">LSTM</span>)                          │ ?                           │     <span style=\"color: #00af00; text-decoration-color: #00af00\">0</span> (unbuilt) │\n",
       "├──────────────────────────────────────┼─────────────────────────────┼─────────────────┤\n",
       "│ dense (<span style=\"color: #0087ff; text-decoration-color: #0087ff\">Dense</span>)                        │ ?                           │     <span style=\"color: #00af00; text-decoration-color: #00af00\">0</span> (unbuilt) │\n",
       "└──────────────────────────────────────┴─────────────────────────────┴─────────────────┘\n",
       "</pre>\n"
      ],
      "text/plain": [
       "┏━━━━━━━━━━━━━━━━━━━━━━━━━━━━━━━━━━━━━━┳━━━━━━━━━━━━━━━━━━━━━━━━━━━━━┳━━━━━━━━━━━━━━━━━┓\n",
       "┃\u001b[1m \u001b[0m\u001b[1mLayer (type)                        \u001b[0m\u001b[1m \u001b[0m┃\u001b[1m \u001b[0m\u001b[1mOutput Shape               \u001b[0m\u001b[1m \u001b[0m┃\u001b[1m \u001b[0m\u001b[1m        Param #\u001b[0m\u001b[1m \u001b[0m┃\n",
       "┡━━━━━━━━━━━━━━━━━━━━━━━━━━━━━━━━━━━━━━╇━━━━━━━━━━━━━━━━━━━━━━━━━━━━━╇━━━━━━━━━━━━━━━━━┩\n",
       "│ embedding (\u001b[38;5;33mEmbedding\u001b[0m)                │ ?                           │     \u001b[38;5;34m0\u001b[0m (unbuilt) │\n",
       "├──────────────────────────────────────┼─────────────────────────────┼─────────────────┤\n",
       "│ spatial_dropout1d (\u001b[38;5;33mSpatialDropout1D\u001b[0m) │ ?                           │     \u001b[38;5;34m0\u001b[0m (unbuilt) │\n",
       "├──────────────────────────────────────┼─────────────────────────────┼─────────────────┤\n",
       "│ lstm (\u001b[38;5;33mLSTM\u001b[0m)                          │ ?                           │     \u001b[38;5;34m0\u001b[0m (unbuilt) │\n",
       "├──────────────────────────────────────┼─────────────────────────────┼─────────────────┤\n",
       "│ dense (\u001b[38;5;33mDense\u001b[0m)                        │ ?                           │     \u001b[38;5;34m0\u001b[0m (unbuilt) │\n",
       "└──────────────────────────────────────┴─────────────────────────────┴─────────────────┘\n"
      ]
     },
     "metadata": {},
     "output_type": "display_data"
    },
    {
     "data": {
      "text/html": [
       "<pre style=\"white-space:pre;overflow-x:auto;line-height:normal;font-family:Menlo,'DejaVu Sans Mono',consolas,'Courier New',monospace\"><span style=\"font-weight: bold\"> Total params: </span><span style=\"color: #00af00; text-decoration-color: #00af00\">0</span> (0.00 B)\n",
       "</pre>\n"
      ],
      "text/plain": [
       "\u001b[1m Total params: \u001b[0m\u001b[38;5;34m0\u001b[0m (0.00 B)\n"
      ]
     },
     "metadata": {},
     "output_type": "display_data"
    },
    {
     "data": {
      "text/html": [
       "<pre style=\"white-space:pre;overflow-x:auto;line-height:normal;font-family:Menlo,'DejaVu Sans Mono',consolas,'Courier New',monospace\"><span style=\"font-weight: bold\"> Trainable params: </span><span style=\"color: #00af00; text-decoration-color: #00af00\">0</span> (0.00 B)\n",
       "</pre>\n"
      ],
      "text/plain": [
       "\u001b[1m Trainable params: \u001b[0m\u001b[38;5;34m0\u001b[0m (0.00 B)\n"
      ]
     },
     "metadata": {},
     "output_type": "display_data"
    },
    {
     "data": {
      "text/html": [
       "<pre style=\"white-space:pre;overflow-x:auto;line-height:normal;font-family:Menlo,'DejaVu Sans Mono',consolas,'Courier New',monospace\"><span style=\"font-weight: bold\"> Non-trainable params: </span><span style=\"color: #00af00; text-decoration-color: #00af00\">0</span> (0.00 B)\n",
       "</pre>\n"
      ],
      "text/plain": [
       "\u001b[1m Non-trainable params: \u001b[0m\u001b[38;5;34m0\u001b[0m (0.00 B)\n"
      ]
     },
     "metadata": {},
     "output_type": "display_data"
    },
    {
     "name": "stdout",
     "output_type": "stream",
     "text": [
      "None\n",
      "Epoch 1/10\n",
      "\u001b[1m4485/4485\u001b[0m \u001b[32m━━━━━━━━━━━━━━━━━━━━\u001b[0m\u001b[37m\u001b[0m \u001b[1m527s\u001b[0m 116ms/step - accuracy: 0.8133 - loss: -38.0960 - val_accuracy: 0.8141 - val_loss: -137.4229\n",
      "Epoch 2/10\n",
      "\u001b[1m4485/4485\u001b[0m \u001b[32m━━━━━━━━━━━━━━━━━━━━\u001b[0m\u001b[37m\u001b[0m \u001b[1m589s\u001b[0m 131ms/step - accuracy: 0.8113 - loss: -171.8293 - val_accuracy: 0.8141 - val_loss: -268.7106\n",
      "Epoch 3/10\n",
      "\u001b[1m4485/4485\u001b[0m \u001b[32m━━━━━━━━━━━━━━━━━━━━\u001b[0m\u001b[37m\u001b[0m \u001b[1m868s\u001b[0m 194ms/step - accuracy: 0.8115 - loss: -304.3322 - val_accuracy: 0.8141 - val_loss: -399.9119\n",
      "Epoch 4/10\n",
      "\u001b[1m4485/4485\u001b[0m \u001b[32m━━━━━━━━━━━━━━━━━━━━\u001b[0m\u001b[37m\u001b[0m \u001b[1m353s\u001b[0m 79ms/step - accuracy: 0.8120 - loss: -435.9707 - val_accuracy: 0.8141 - val_loss: -531.5524\n",
      "Epoch 5/10\n",
      "\u001b[1m4485/4485\u001b[0m \u001b[32m━━━━━━━━━━━━━━━━━━━━\u001b[0m\u001b[37m\u001b[0m \u001b[1m550s\u001b[0m 123ms/step - accuracy: 0.8119 - loss: -570.0001 - val_accuracy: 0.8141 - val_loss: -666.2399\n",
      "Epoch 6/10\n",
      "\u001b[1m4485/4485\u001b[0m \u001b[32m━━━━━━━━━━━━━━━━━━━━\u001b[0m\u001b[37m\u001b[0m \u001b[1m519s\u001b[0m 116ms/step - accuracy: 0.8120 - loss: -703.4769 - val_accuracy: 0.8141 - val_loss: -800.3639\n",
      "Epoch 7/10\n",
      "\u001b[1m4485/4485\u001b[0m \u001b[32m━━━━━━━━━━━━━━━━━━━━\u001b[0m\u001b[37m\u001b[0m \u001b[1m313s\u001b[0m 70ms/step - accuracy: 0.8122 - loss: -841.4816 - val_accuracy: 0.8141 - val_loss: -935.4377\n",
      "Epoch 8/10\n",
      "\u001b[1m4485/4485\u001b[0m \u001b[32m━━━━━━━━━━━━━━━━━━━━\u001b[0m\u001b[37m\u001b[0m \u001b[1m295s\u001b[0m 66ms/step - accuracy: 0.8117 - loss: -979.7342 - val_accuracy: 0.8141 - val_loss: -1070.6398\n",
      "Epoch 9/10\n",
      "\u001b[1m4485/4485\u001b[0m \u001b[32m━━━━━━━━━━━━━━━━━━━━\u001b[0m\u001b[37m\u001b[0m \u001b[1m294s\u001b[0m 65ms/step - accuracy: 0.8126 - loss: -1108.2145 - val_accuracy: 0.8141 - val_loss: -1205.8619\n",
      "Epoch 10/10\n",
      "\u001b[1m4485/4485\u001b[0m \u001b[32m━━━━━━━━━━━━━━━━━━━━\u001b[0m\u001b[37m\u001b[0m \u001b[1m294s\u001b[0m 65ms/step - accuracy: 0.8117 - loss: -1249.1195 - val_accuracy: 0.8141 - val_loss: -1341.3623\n",
      "\u001b[1m1922/1922\u001b[0m \u001b[32m━━━━━━━━━━━━━━━━━━━━\u001b[0m\u001b[37m\u001b[0m \u001b[1m48s\u001b[0m 25ms/step - accuracy: 0.8132 - loss: -1352.4275\n",
      "Test Accuracy: 0.8140884637832642\n"
     ]
    }
   ],
   "source": [
    "from keras.models import Sequential\n",
    "from keras.layers import LSTM, Dense, Embedding, SpatialDropout1D\n",
    "\n",
    "# Define the LSTM model\n",
    "model = Sequential()\n",
    "model.add(Embedding(input_dim=20000, output_dim=100, input_length=60))\n",
    "model.add(SpatialDropout1D(0.2))\n",
    "model.add(LSTM(100, dropout=0.2, recurrent_dropout=0.2))\n",
    "model.add(Dense(1, activation='sigmoid'))\n",
    "\n",
    "# Compile the model\n",
    "model.compile(loss='binary_crossentropy', optimizer='adam', metrics=['accuracy'])\n",
    "\n",
    "print(model.summary())\n",
    "history = model.fit(X_train_selected, y_train, epochs=10, batch_size=32, validation_data=(X_test_selected, y_test))\n",
    "loss, accuracy = model.evaluate(X_test, y_test)\n",
    "print(f\"Test Accuracy: {accuracy}\")\n"
   ]
  },
  {
   "cell_type": "code",
   "execution_count": 8,
   "id": "09228faa-13f8-4fd5-86e3-286e63ee50c8",
   "metadata": {},
   "outputs": [
    {
     "name": "stdout",
     "output_type": "stream",
     "text": [
      "\u001b[1m1922/1922\u001b[0m \u001b[32m━━━━━━━━━━━━━━━━━━━━\u001b[0m\u001b[37m\u001b[0m \u001b[1m32s\u001b[0m 16ms/step\n",
      "Accuracy: 0.8140884921215669\n",
      "Precision: 0.6627400730047665\n",
      "Recall (Sensitivity): 0.8140884921215669\n",
      "F1-Score: 0.7306590344219598\n",
      "Specificity (True Negative Rate): 0.6666666666666666\n",
      "Matthews Correlation Coefficient (MCC): 0.0\n",
      "Negative Predictive Value (NPV): 0.6046961640405223\n",
      "False Positive Rate (FPR): 0.3333333333333333\n",
      "False Negative Rate (FNR): 0.6666666666666666\n"
     ]
    }
   ],
   "source": [
    "# Assuming X_test_selected and y_test are already defined and the LSTM model has been trained and is named `model`\n",
    "\n",
    "# Make predictions on the test data\n",
    "lstm_pred = model.predict(X_test_selected)\n",
    "\n",
    "# Calculate Accuracy\n",
    "accuracy = accuracy_score(y_test, lstm_pred)\n",
    "print(f\"Accuracy: {accuracy}\")\n",
    "\n",
    "# Calculate Precision\n",
    "precision = precision_score(y_test, lstm_pred, average='weighted', zero_division=0)\n",
    "print(f\"Precision: {precision}\")\n",
    "\n",
    "# Calculate Recall (Sensitivity or True Positive Rate)\n",
    "recall = recall_score(y_test, lstm_pred, average='weighted', zero_division=0)\n",
    "print(f\"Recall (Sensitivity): {recall}\")\n",
    "\n",
    "# Calculate F1-Score\n",
    "f1 = f1_score(y_test, lstm_pred, average='weighted', zero_division=0)\n",
    "print(f\"F1-Score: {f1}\")\n",
    "\n",
    "# Calculate the confusion matrix\n",
    "cm = confusion_matrix(y_test, lstm_pred)\n",
    "\n",
    "# Calculate True Positives (TP), False Positives (FP), False Negatives (FN), True Negatives (TN)\n",
    "TP = np.diag(cm)  # True Positives\n",
    "FP = np.sum(cm, axis=0) - TP  # False Positives\n",
    "FN = np.sum(cm, axis=1) - TP  # False Negatives\n",
    "TN = np.sum(cm) - (TP + FP + FN)  # True Negatives\n",
    "\n",
    "# Calculate metrics ensuring no division by zero\n",
    "def safe_divide(numerator, denominator):\n",
    "    return np.divide(numerator, denominator, out=np.zeros_like(numerator, dtype=float), where=denominator != 0)\n",
    "\n",
    "# Calculate Specificity (True Negative Rate)\n",
    "specificity = safe_divide(TN, (TN + FP))\n",
    "specificity = np.mean(specificity)  # Average specificity for multiclass\n",
    "print(f\"Specificity (True Negative Rate): {specificity}\")\n",
    "\n",
    "# Calculate Matthews Correlation Coefficient (MCC)\n",
    "mcc = matthews_corrcoef(y_test, lstm_pred)\n",
    "print(f\"Matthews Correlation Coefficient (MCC): {mcc}\")\n",
    "\n",
    "# Calculate Negative Predictive Value (NPV)\n",
    "npv = safe_divide(TN, (TN + FN))\n",
    "npv = np.mean(npv)  # Average NPV for multiclass\n",
    "print(f\"Negative Predictive Value (NPV): {npv}\")\n",
    "\n",
    "# Calculate False Positive Rate (FPR)\n",
    "fpr = safe_divide(FP, (FP + TN))\n",
    "fpr = np.mean(fpr)  # Average FPR for multiclass\n",
    "print(f\"False Positive Rate (FPR): {fpr}\")\n",
    "\n",
    "# Calculate False Negative Rate (FNR)\n",
    "fnr = safe_divide(FN, (FN + TP))\n",
    "fnr = np.mean(fnr)  # Average FNR for multiclass\n",
    "print(f\"False Negative Rate (FNR): {fnr}\")\n"
   ]
  },
  {
   "cell_type": "markdown",
   "id": "a8ff16fd-7901-47a2-a88d-305a58152ebd",
   "metadata": {},
   "source": [
    "## 2.Logistic Regression"
   ]
  },
  {
   "cell_type": "code",
   "execution_count": 9,
   "id": "60e622c0-8b19-4d79-8393-02648218c92a",
   "metadata": {},
   "outputs": [],
   "source": [
    "from sklearn.linear_model import LogisticRegression\n",
    "from sklearn.metrics import classification_report,confusion_matrix\n",
    "\n",
    "model2=LogisticRegression()\n",
    "model2.fit(X_train_selected,y_train)\n",
    "lr_pred=model2.predict(X_test_selected)"
   ]
  },
  {
   "cell_type": "code",
   "execution_count": 10,
   "id": "09749d3a-ba27-4062-952d-dc8d69618b89",
   "metadata": {},
   "outputs": [
    {
     "name": "stdout",
     "output_type": "stream",
     "text": [
      "Accuracy: 0.8479763240483276\n",
      "Precision: 0.8294364137952015\n",
      "Recall (Sensitivity): 0.8479763240483276\n",
      "F1-Score: 0.8206401072350957\n",
      "Specificity: [0.31898889 0.99588055 0.97508387]\n",
      "Matthews Correlation Coefficient (MCC): 0.4113016650208722\n",
      "Negative Predictive Value (NPV): [0.74917831 0.96302418 0.89777361]\n",
      "False Positive Rate (FPR): [0.68101111 0.00411945 0.02491613]\n",
      "False Negative Rate (FNR): [0.02438878 0.74716099 0.69806849]\n"
     ]
    }
   ],
   "source": [
    "\n",
    "accuracy = accuracy_score(y_test,lr_pred)\n",
    "\n",
    "# Calculate Precision\n",
    "precision = precision_score(y_test,lr_pred,average='weighted')\n",
    "\n",
    "# Calculate Recall (Sensitivity or True Positive Rate)\n",
    "recall = recall_score(y_test,lr_pred,average='weighted')\n",
    "\n",
    "# Calculate F1-Score\n",
    "f1 = f1_score(y_test,lr_pred,average='weighted')\n",
    "cm = confusion_matrix(y_test,lr_pred)\n",
    "\n",
    "# Handle case where confusion matrix is 1-dimensional\n",
    "if cm.ndim == 1:\n",
    "    TP = cm[0]  # True Positives\n",
    "    FP = 0      # False Positives (no false positives in this case)\n",
    "    FN = 0      # False Negatives (no false negatives in this case)\n",
    "    TN = 0      # True Negatives (no true negatives in this case)\n",
    "else:\n",
    "    TP = np.diag(cm)  # True Positives\n",
    "    FP = np.sum(cm, axis=0) - TP  # False Positives\n",
    "    FN = np.sum(cm, axis=1) - TP  # False Negatives\n",
    "    TN = np.sum(cm) - (TP + FP + FN)\n",
    "\n",
    "# Calculate True Negatives (TN)\n",
    "total_samples = np.sum(cm)\n",
    "TN = total_samples - (TP + FP + FN)\n",
    "\n",
    "\n",
    "# Calculate Matthews Correlation Coefficient (MCC)\n",
    "mcc = matthews_corrcoef(y_test,lr_pred)\n",
    "\n",
    "# Calculate Negative Predictive Value (NPV)\n",
    "npv = TN / (TN + FN)\n",
    "\n",
    "# Calculate False Positive Rate (FPR)\n",
    "fpr = FP / (FP + TN)\n",
    "\n",
    "specificity = TN / (TN + FP)\n",
    "\n",
    "# Calculate False Negative Rate (FNR)\n",
    "fnr = FN / (FN + TP)\n",
    "print(f\"Accuracy: {accuracy}\")\n",
    "print(f\"Precision: {precision}\")\n",
    "print(f\"Recall (Sensitivity): {recall}\")\n",
    "print(f\"F1-Score: {f1}\")\n",
    "print(f\"Specificity: {specificity}\")\n",
    "print(f\"Matthews Correlation Coefficient (MCC): {mcc}\")\n",
    "print(f\"Negative Predictive Value (NPV): {npv}\")\n",
    "print(f\"False Positive Rate (FPR): {fpr}\")\n",
    "print(f\"False Negative Rate (FNR): {fnr}\")"
   ]
  },
  {
   "cell_type": "markdown",
   "id": "95063a7f-ef21-4df0-8ebf-039b0e1d905e",
   "metadata": {},
   "source": [
    "## 2.Decision Tree"
   ]
  },
  {
   "cell_type": "code",
   "execution_count": 11,
   "id": "f771bda8-622f-424f-acfb-bcd4a4d7bf69",
   "metadata": {},
   "outputs": [
    {
     "name": "stdout",
     "output_type": "stream",
     "text": [
      "Accuracy: 0.8386913182756882\n",
      "Precision: 0.8363339692992904\n",
      "Recall (Sensitivity): 0.8386913182756882\n",
      "F1-Score: 0.8374715282929173\n",
      "Specificity (True Negative Rate): 0.8324616892478668\n",
      "Matthews Correlation Coefficient (MCC): 0.482635117786416\n",
      "Negative Predictive Value (NPV): 0.8371424943022502\n",
      "False Positive Rate (FPR): 0.16753831075213318\n",
      "False Negative Rate (FNR): 0.37173674192724065\n"
     ]
    }
   ],
   "source": [
    "from sklearn.tree import DecisionTreeClassifier\n",
    "# Assuming X_train_selected, y_train, X_test_selected, y_test are already defined\n",
    "\n",
    "# Create and train the decision tree classifier model\n",
    "dc_model = DecisionTreeClassifier()\n",
    "dc_model.fit(X_train_selected, y_train)\n",
    "\n",
    "# Make predictions on the test data\n",
    "dc_pred = dc_model.predict(X_test_selected)\n",
    "\n",
    "# Calculate Accuracy\n",
    "accuracy = accuracy_score(y_test, dc_pred)\n",
    "print(f\"Accuracy: {accuracy}\")\n",
    "\n",
    "# Calculate Precision\n",
    "precision = precision_score(y_test, dc_pred, average='weighted')\n",
    "print(f\"Precision: {precision}\")\n",
    "\n",
    "# Calculate Recall (Sensitivity or True Positive Rate)\n",
    "recall = recall_score(y_test, dc_pred, average='weighted')\n",
    "print(f\"Recall (Sensitivity): {recall}\")\n",
    "\n",
    "# Calculate F1-Score\n",
    "f1 = f1_score(y_test, dc_pred, average='weighted')\n",
    "print(f\"F1-Score: {f1}\")\n",
    "\n",
    "# Calculate the confusion matrix\n",
    "cm = confusion_matrix(y_test, dc_pred)\n",
    "\n",
    "# Handle case where confusion matrix is 1-dimensional\n",
    "if cm.ndim == 1:\n",
    "    TP = cm[0]  # True Positives\n",
    "    FP = 0      # False Positives (no false positives in this case)\n",
    "    FN = 0      # False Negatives (no false negatives in this case)\n",
    "    TN = 0      # True Negatives (no true negatives in this case)\n",
    "else:\n",
    "    TP = np.diag(cm)  # True Positives\n",
    "    FP = np.sum(cm, axis=0) - TP  # False Positives\n",
    "    FN = np.sum(cm, axis=1) - TP  # False Negatives\n",
    "    TN = np.sum(cm) - (TP + FP + FN)  # True Negatives\n",
    "\n",
    "# Calculate metrics ensuring no division by zero\n",
    "def safe_divide(numerator, denominator):\n",
    "    return np.divide(numerator, denominator, out=np.zeros_like(numerator, dtype=float), where=denominator != 0)\n",
    "\n",
    "# Calculate Specificity (True Negative Rate)\n",
    "specificity = safe_divide(TN, (TN + FP))\n",
    "specificity = np.mean(specificity)  # Average specificity for multiclass\n",
    "\n",
    "# Calculate Matthews Correlation Coefficient (MCC)\n",
    "mcc = matthews_corrcoef(y_test, dc_pred)\n",
    "\n",
    "# Calculate Negative Predictive Value (NPV)\n",
    "npv = safe_divide(TN, (TN + FN))\n",
    "npv = np.mean(npv)  # Average NPV for multiclass\n",
    "\n",
    "# Calculate False Positive Rate (FPR)\n",
    "fpr = safe_divide(FP, (FP + TN))\n",
    "fpr = np.mean(fpr)  # Average FPR for multiclass\n",
    "\n",
    "# Calculate False Negative Rate (FNR)\n",
    "fnr = safe_divide(FN, (FN + TP))\n",
    "fnr = np.mean(fnr)  # Average FNR for multiclass\n",
    "\n",
    "print(f\"Specificity (True Negative Rate): {specificity}\")\n",
    "print(f\"Matthews Correlation Coefficient (MCC): {mcc}\")\n",
    "print(f\"Negative Predictive Value (NPV): {npv}\")\n",
    "print(f\"False Positive Rate (FPR): {fpr}\")\n",
    "print(f\"False Negative Rate (FNR): {fnr}\")\n"
   ]
  },
  {
   "cell_type": "markdown",
   "id": "3bece08d-3a58-4fbf-941c-399032cbc02c",
   "metadata": {},
   "source": [
    "## 4.Random Forest"
   ]
  },
  {
   "cell_type": "code",
   "execution_count": 12,
   "id": "0b8a0ea3-44f4-4dda-a663-4d3de8a6f615",
   "metadata": {
    "scrolled": true
   },
   "outputs": [
    {
     "name": "stdout",
     "output_type": "stream",
     "text": [
      "Accuracy: 0.8822544189147438\n",
      "Precision: 0.8750556771036723\n",
      "Recall (Sensitivity): 0.8822544189147438\n",
      "F1-Score: 0.8660138357156387\n",
      "Specificity: [0.46881833 0.99441054 0.98414942]\n",
      "Matthews Correlation Coefficient (MCC): 0.5726305214419831\n",
      "Negative Predictive Value (NPV): [0.87940935 0.96989097 0.91742362]\n",
      "False Positive Rate (FPR): [0.53118167 0.00558946 0.01585058]\n",
      "False Negative Rate (FNR): [0.01468121 0.60320641 0.55693803]\n"
     ]
    }
   ],
   "source": [
    "from sklearn.ensemble import RandomForestClassifier\n",
    "rf_model = RandomForestClassifier(n_estimators=100, random_state=42)\n",
    "rf_model.fit(X_train_selected, y_train)\n",
    "rf_pred = rf_model.predict(X_test_selected)\n",
    "\n",
    "accuracy = accuracy_score(y_test,rf_pred)\n",
    "\n",
    "# Calculate Precision\n",
    "precision = precision_score(y_test,rf_pred,average='weighted')\n",
    "\n",
    "# Calculate Recall (Sensitivity or True Positive Rate)\n",
    "recall = recall_score(y_test,rf_pred,average='weighted')\n",
    "\n",
    "# Calculate F1-Score\n",
    "f1 = f1_score(y_test,rf_pred,average='weighted')\n",
    "cm = confusion_matrix(y_test,rf_pred)\n",
    "\n",
    "# Handle case where confusion matrix is 1-dimensional\n",
    "if cm.ndim == 1:\n",
    "    TP = cm[0]  # True Positives\n",
    "    FP = 0      # False Positives (no false positives in this case)\n",
    "    FN = 0      # False Negatives (no false negatives in this case)\n",
    "    TN = 0      # True Negatives (no true negatives in this case)\n",
    "else:\n",
    "    TP = np.diag(cm)  # True Positives\n",
    "    FP = np.sum(cm, axis=0) - TP  # False Positives\n",
    "    FN = np.sum(cm, axis=1) - TP  # False Negatives\n",
    "    TN = np.sum(cm) - (TP + FP + FN)\n",
    "\n",
    "# Calculate True Negatives (TN)\n",
    "total_samples = np.sum(cm)\n",
    "TN = total_samples - (TP + FP + FN)\n",
    "\n",
    "\n",
    "# Calculate Matthews Correlation Coefficient (MCC)\n",
    "mcc = matthews_corrcoef(y_test,rf_pred)\n",
    "\n",
    "# Calculate Negative Predictive Value (NPV)\n",
    "npv = TN / (TN + FN)\n",
    "\n",
    "# Calculate False Positive Rate (FPR)\n",
    "fpr = FP / (FP + TN)\n",
    "\n",
    "specificity = TN / (TN + FP)\n",
    "\n",
    "# Calculate False Negative Rate (FNR)\n",
    "fnr = FN / (FN + TP)\n",
    "print(f\"Accuracy: {accuracy}\")\n",
    "print(f\"Precision: {precision}\")\n",
    "print(f\"Recall (Sensitivity): {recall}\")\n",
    "print(f\"F1-Score: {f1}\")\n",
    "print(f\"Specificity: {specificity}\")\n",
    "print(f\"Matthews Correlation Coefficient (MCC): {mcc}\")\n",
    "print(f\"Negative Predictive Value (NPV): {npv}\")\n",
    "print(f\"False Positive Rate (FPR): {fpr}\")\n",
    "print(f\"False Negative Rate (FNR): {fnr}\")\n",
    "\n"
   ]
  },
  {
   "cell_type": "markdown",
   "id": "20f30c1e-adfb-4fa6-b50f-8770e1d99b58",
   "metadata": {},
   "source": [
    "## Model accuracy Comparison Chart (Train 70% and Test 30%)  and (Train 80% and Test 20%)"
   ]
  },
  {
   "cell_type": "code",
   "execution_count": 39,
   "id": "84923447-40b5-4ec7-b55e-01c1078c7e1d",
   "metadata": {
    "scrolled": true
   },
   "outputs": [
    {
     "data": {
      "image/png": "[encoded data removed]",
      "text/plain": [
       "<Figure size 1000x600 with 1 Axes>"
      ]
     },
     "metadata": {},
     "output_type": "display_data"
    }
   ],
   "source": [
    "models_70_30 = ['LSTM_70_30', 'LR_70_30', 'DT_70_30', 'RF_70_30']\n",
    "accuracy_70_30 = [0.8140884921215669,0.8479763240483276,0.838691318275688,0.8822544189147438]\n",
    "\n",
    "models_80_20 = ['LSTM_80_20', 'LR_80_20', 'DT_80_20', 'RF_80_20']\n",
    "accuracy_80_20 = [0.8123567003268453,0.8435045611981072, 0.8363578711156642, 0.8818966778867262]\n",
    "\n",
    "# Combining data\n",
    "models = models_70_30 + models_80_20\n",
    "accuracy = accuracy_70_30 + accuracy_80_20\n",
    "\n",
    "# Assigning colors to each model split\n",
    "colors_70_30 = ['blue', 'green', 'red', 'purple']\n",
    "colors_80_20 = ['blue', 'green', 'red', 'purple']\n",
    "colors = colors_70_30 + colors_80_20\n",
    "\n",
    "# Define bar width and positions\n",
    "bar_width = 0.35\n",
    "index_70_30 = np.arange(len(models_70_30))\n",
    "index_80_20 = index_70_30 + len(models_70_30) + 1  # Adding a gap between the two groups\n",
    "\n",
    "# Creating the bar plot\n",
    "plt.figure(figsize=(10,6))\n",
    "\n",
    "# Plotting the bars with labels for legend\n",
    "bars_70_30 = plt.bar(index_70_30, accuracy_70_30, bar_width, color=colors_70_30)\n",
    "bars_80_20 = plt.bar(index_80_20, accuracy_80_20, bar_width, color=colors_80_20)\n",
    "\n",
    "# Adding title and labels\n",
    "plt.title('70%-30% vs 80%-20%')\n",
    "plt.xlabel('Models and Train-Test Splits')\n",
    "plt.ylabel('Accuracy')\n",
    "\n",
    "# Adjusting x-axis labels\n",
    "plt.xticks(np.concatenate([index_70_30, index_80_20]),\n",
    "           models_70_30 + models_80_20, rotation=45, ha='right')\n",
    "\n",
    "# Creating custom legends\n",
    "legend_labels = ['LSTM', 'LR', 'DT', 'RF']\n",
    "legend_colors = ['blue', 'green', 'red', 'purple']\n",
    "legend_handles = [plt.Line2D([0], [0], color=color, lw=4) for color in legend_colors]\n",
    "plt.legend(legend_handles, legend_labels, title='Models')\n",
    "\n",
    "# Showing the plot\n",
    "plt.show()\n",
    "    "
   ]
  },
  {
   "cell_type": "markdown",
   "id": "babdebd5-fdb8-4b88-b04c-40f0d2d33a82",
   "metadata": {},
   "source": [
    "## All matrices chart for 70%-30%"
   ]
  },
  {
   "cell_type": "code",
   "execution_count": 25,
   "id": "7a3b3b37-6675-4dfa-a141-059e86fbb3b4",
   "metadata": {},
   "outputs": [
    {
     "data": {
      "image/png": "[encoded data removed]",
      "text/plain": [
       "<Figure size 640x480 with 1 Axes>"
      ]
     },
     "metadata": {},
     "output_type": "display_data"
    }
   ],
   "source": [
    "from sklearn.metrics import roc_curve, auc\n",
    "\n",
    "# Data\n",
    "models = ['LSTM', 'Logistic Regression','Decision Tree', 'Random Forest']\n",
    "accuracy = [0.8140884921215669, 0.8479763240483276, 0.838691318275688, 0.8822544189147438]\n",
    "precision = [0.6627400730047665, 0.8294364137952015, 0.8363339692992904, 0.8750556771036723]\n",
    "recall = [0.8140884921215669, 0.8479763240483276, 0.8386913182756882, 0.8822544189147438]\n",
    "f1_score = [0.7306590344219598, 0.8206401072350957, 0.8374715282929173, 0.8660138357156387]\n",
    "\n",
    "# Example training and validation loss over epochs\n",
    "\n",
    "# Metrics bar plot\n",
    "metrics = ['Accuracy', 'Precision', 'Recall', 'F1-Score']\n",
    "values = [accuracy, precision, recall, f1_score]\n",
    "\n",
    "fig, ax = plt.subplots()\n",
    "bar_width = 0.2\n",
    "index = np.arange(len(models))\n",
    "\n",
    "for i, metric in enumerate(metrics):\n",
    "    ax.bar(index + i * bar_width, values[i], bar_width, label=metric)\n",
    "\n",
    "ax.set_xlabel('Models')\n",
    "ax.set_ylabel('Scores')\n",
    "ax.set_title('Performance Metrics Comparison  70%-30%')\n",
    "ax.set_xticks(index + bar_width * 1.5)\n",
    "ax.set_xticklabels(models)\n",
    "ax.legend()\n",
    "\n",
    "plt.show()\n",
    "\n"
   ]
  },
  {
   "cell_type": "markdown",
   "id": "7dd8fd09-d88e-4c43-828c-81f16feed94c",
   "metadata": {},
   "source": [
    "## All matrices plotting for (Train 80% and Test 20%)"
   ]
  },
  {
   "cell_type": "code",
   "execution_count": 27,
   "id": "afb8712a-2d9a-4a3c-b1bb-0b2de981839b",
   "metadata": {},
   "outputs": [
    {
     "data": {
      "image/png": "[encoded data removed]",
      "text/plain": [
       "<Figure size 640x480 with 1 Axes>"
      ]
     },
     "metadata": {},
     "output_type": "display_data"
    }
   ],
   "source": [
    "import numpy as np\n",
    "import matplotlib.pyplot as plt\n",
    "from sklearn.metrics import roc_curve, auc\n",
    "\n",
    "# Data\n",
    "models = ['LSTM', 'Logistic Regression','Decision Tree', 'Random Forest']\n",
    "accuracy = [0.8123567003268453, 0.8435045611981072, 0.8363578711156642, 0.8818966778867262]\n",
    "precision = [0.6599234085659198, 0.8236043272296382, 0.8349725357116438, 0.8749840981943073]\n",
    "recall = [0.8123567003268453, 0.8435045611981072, 0.8363578711156642, 0.8818966778867262]\n",
    "f1_score = [0.7282489241184227, 0.8133471742197949, 0.835646491811487, 0.835646491811487]\n",
    "\n",
    "# Example training and validation loss over epochs\n",
    "\n",
    "# Metrics bar plot\n",
    "metrics = ['Accuracy', 'Precision', 'Recall', 'F1-Score']\n",
    "values = [accuracy, precision, recall, f1_score]\n",
    "\n",
    "fig, ax = plt.subplots()\n",
    "bar_width = 0.2\n",
    "index = np.arange(len(models))\n",
    "\n",
    "for i, metric in enumerate(metrics):\n",
    "    ax.bar(index + i * bar_width, values[i], bar_width, label=metric)\n",
    "\n",
    "ax.set_xlabel('Models')\n",
    "ax.set_ylabel('Scores')\n",
    "ax.set_title('Performance Metrics Comparison  80%-20%')\n",
    "ax.set_xticks(index + bar_width * 1.5)\n",
    "ax.set_xticklabels(models)\n",
    "ax.legend()\n",
    "\n",
    "plt.show()\n"
   ]
  },
  {
   "cell_type": "code",
   "execution_count": 40,
   "id": "7f56bb5d-efeb-448a-b806-77532876e7f8",
   "metadata": {},
   "outputs": [],
   "source": [
    "# The Random forest model has high metrices score than others"
   ]
  },
  {
   "cell_type": "code",
   "execution_count": null,
   "id": "7a4ca4ff-df1a-4335-9ac7-c96eb4e3c0ec",
   "metadata": {},
   "outputs": [],
   "source": []
  }
 ],
 "metadata": {
  "kernelspec": {
   "display_name": "Python 3 (ipykernel)",
   "language": "python",
   "name": "python3"
  },
  "language_info": {
   "codemirror_mode": {
    "name": "ipython",
    "version": 3
   },
   "file_extension": ".py",
   "mimetype": "text/x-python",
   "name": "python",
   "nbconvert_exporter": "python",
   "pygments_lexer": "ipython3",
   "version": "3.12.0"
  }
 },
 "nbformat": 4,
 "nbformat_minor": 5
}
